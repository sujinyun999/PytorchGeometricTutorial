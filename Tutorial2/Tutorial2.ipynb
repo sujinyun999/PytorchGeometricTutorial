{
 "cells": [
  {
   "cell_type": "markdown",
   "metadata": {},
   "source": [
    "# Tutorial2: PyTorch basics"
   ]
  },
  {
   "cell_type": "markdown",
   "metadata": {},
   "source": [
    "## Outline"
   ]
  },
  {
   "cell_type": "markdown",
   "metadata": {},
   "source": [
    "- Datasets\n",
    "- Models\n",
    "- Losses\n",
    "- Optimizers"
   ]
  },
  {
   "cell_type": "markdown",
   "metadata": {},
   "source": [
    "Official resources:\n",
    "* [Deep Learning with PyTorch: a 60 Minute Blitz](https://pytorch.org/tutorials/beginner/deep_learning_60min_blitz.html)\n",
    "* [PyTorch documentation](https://pytorch.org/docs/stable/index.html)"
   ]
  },
  {
   "cell_type": "markdown",
   "metadata": {},
   "source": [
    "Here no details, mostly visualization, with linear regression."
   ]
  },
  {
   "cell_type": "markdown",
   "metadata": {},
   "source": [
    "### Imports"
   ]
  },
  {
   "cell_type": "code",
   "execution_count": 3,
   "metadata": {},
   "outputs": [],
   "source": [
    "import numpy as np\n",
    "import torch\n",
    "import matplotlib.pyplot as plt\n",
    "from matplotlib import colors\n",
    "plt.rcParams.update({'font.size': 16})"
   ]
  },
  {
   "cell_type": "code",
   "execution_count": 4,
   "metadata": {},
   "outputs": [
    {
     "data": {
      "text/plain": [
       "tensor([0., 0., 0., 0., 0., 0., 0., 0., 0., 0., 0., 0., 0., 0., 0., 0., 0., 0., 0., 0.])"
      ]
     },
     "execution_count": 4,
     "metadata": {},
     "output_type": "execute_result"
    }
   ],
   "source": [
    "x = torch.rand(20, 5)\n",
    "x\n",
    "((x.norm(dim=1) - 1).abs() < 1e-10).float()"
   ]
  },
  {
   "cell_type": "markdown",
   "metadata": {},
   "source": [
    "## Datasets"
   ]
  },
  {
   "cell_type": "markdown",
   "metadata": {},
   "source": [
    "### A raw dataset"
   ]
  },
  {
   "cell_type": "markdown",
   "metadata": {},
   "source": [
    "The data are obtained from the model \n",
    "$$\n",
    "x \\mapsto y:=Ax + b\n",
    "$$\n",
    "with $x\\in\\mathbb R^{input\\_dim}$ and $y\\in\\mathbb R^{output\\_dim}$."
   ]
  },
  {
   "cell_type": "code",
   "execution_count": 5,
   "metadata": {},
   "outputs": [],
   "source": [
    "input_dim = 1\n",
    "output_dim = 1\n",
    "\n",
    "A = 2 * np.random.rand(output_dim, input_dim) - 1\n",
    "b = 2 * np.random.rand(output_dim) - 1\n",
    "\n",
    "true_model = lambda x: A @ x + b"
   ]
  },
  {
   "cell_type": "markdown",
   "metadata": {},
   "source": [
    "We get a training set by randomly sampling and noisy observations\n",
    "\\begin{align*}\n",
    "&x_i \\sim U([-1, 1])\\\\\n",
    "&y_i = A x_i + b + \\nu_i\n",
    "\\end{align*}"
   ]
  },
  {
   "cell_type": "code",
   "execution_count": 6,
   "metadata": {},
   "outputs": [],
   "source": [
    "n_train = 1000\n",
    "noise_level = 0.04\n",
    "\n",
    "# Generate a random set of n_train samples\n",
    "X_train = np.random.rand(n_train, input_dim)\n",
    "y_train = np.array([true_model(x) for x in X_train])\n",
    "\n",
    "# Add some noise\n",
    "y_train += noise_level * np.random.standard_normal(size=y_train.shape)"
   ]
  },
  {
   "cell_type": "code",
   "execution_count": 7,
   "metadata": {},
   "outputs": [
    {
     "data": {
      "image/png": "[encoded data removed]",
      "text/plain": [
       "<Figure size 432x288 with 1 Axes>"
      ]
     },
     "metadata": {
      "needs_background": "light"
     },
     "output_type": "display_data"
    }
   ],
   "source": [
    "if input_dim == output_dim == 1:\n",
    "    fig = plt.figure()\n",
    "    fig.clf()\n",
    "    ax = fig.gca()\n",
    "    ax.plot(X_train, y_train, '.')\n",
    "    ax.grid(True)\n",
    "    ax.set_xlabel('X_train')\n",
    "    ax.set_ylabel('y_train')"
   ]
  },
  {
   "cell_type": "markdown",
   "metadata": {},
   "source": [
    "### PyTorch `Dataset`"
   ]
  },
  {
   "cell_type": "code",
   "execution_count": 8,
   "metadata": {},
   "outputs": [],
   "source": [
    "#%% Dataset to manage vector to vector data\n",
    "class VectorialDataset(torch.utils.data.Dataset):\n",
    "    def __init__(self, input_data, output_data):\n",
    "        super(VectorialDataset, self).__init__()\n",
    "        self.input_data = torch.tensor(input_data.astype('f'))\n",
    "        self.output_data = torch.tensor(output_data.astype('f'))\n",
    "        \n",
    "    def __len__(self):\n",
    "        return self.input_data.shape[0]\n",
    "    \n",
    "    def __getitem__(self, idx):\n",
    "        if torch.is_tensor(idx):\n",
    "            idx = idx.tolist()\n",
    "        sample = (self.input_data[idx, :], \n",
    "                  self.output_data[idx, :])  \n",
    "        return sample "
   ]
  },
  {
   "cell_type": "code",
   "execution_count": 9,
   "metadata": {},
   "outputs": [],
   "source": [
    "training_set = VectorialDataset(input_data=X_train, output_data=y_train)"
   ]
  },
  {
   "cell_type": "code",
   "execution_count": 10,
   "metadata": {},
   "outputs": [
    {
     "data": {
      "text/plain": [
       "1000"
      ]
     },
     "execution_count": 10,
     "metadata": {},
     "output_type": "execute_result"
    }
   ],
   "source": [
    "len(training_set)"
   ]
  },
  {
   "cell_type": "code",
   "execution_count": 11,
   "metadata": {},
   "outputs": [
    {
     "data": {
      "text/plain": [
       "(tensor([[0.2485],\n",
       "         [0.1748]]),\n",
       " tensor([[-0.5815],\n",
       "         [-0.6275]]))"
      ]
     },
     "execution_count": 11,
     "metadata": {},
     "output_type": "execute_result"
    }
   ],
   "source": [
    "training_set[10:12]"
   ]
  },
  {
   "cell_type": "markdown",
   "metadata": {},
   "source": [
    "Here almost useless, but think about e.g. images."
   ]
  },
  {
   "cell_type": "markdown",
   "metadata": {},
   "source": [
    "### PyTorch `DataLoader`"
   ]
  },
  {
   "cell_type": "code",
   "execution_count": 12,
   "metadata": {},
   "outputs": [],
   "source": [
    "batch_size = 120\n",
    "train_loader = torch.utils.data.DataLoader(training_set, \n",
    "                                           batch_size=batch_size, \n",
    "                                           shuffle=True)"
   ]
  },
  {
   "cell_type": "markdown",
   "metadata": {},
   "source": [
    "The role of `batch_size`:"
   ]
  },
  {
   "cell_type": "code",
   "execution_count": 13,
   "metadata": {},
   "outputs": [
    {
     "name": "stdout",
     "output_type": "stream",
     "text": [
      "Batch n.  1: input size=torch.Size([120, 1]), output size=torch.Size([120, 1])\n",
      "Batch n.  2: input size=torch.Size([120, 1]), output size=torch.Size([120, 1])\n",
      "Batch n.  3: input size=torch.Size([120, 1]), output size=torch.Size([120, 1])\n",
      "Batch n.  4: input size=torch.Size([120, 1]), output size=torch.Size([120, 1])\n",
      "Batch n.  5: input size=torch.Size([120, 1]), output size=torch.Size([120, 1])\n",
      "Batch n.  6: input size=torch.Size([120, 1]), output size=torch.Size([120, 1])\n",
      "Batch n.  7: input size=torch.Size([120, 1]), output size=torch.Size([120, 1])\n",
      "Batch n.  8: input size=torch.Size([120, 1]), output size=torch.Size([120, 1])\n",
      "Batch n.  9: input size=torch.Size([40, 1]), output size=torch.Size([40, 1])\n"
     ]
    }
   ],
   "source": [
    "for idx, batch in enumerate(train_loader):\n",
    "    print('Batch n. %2d: input size=%s, output size=%s' % (idx+1, batch[0].shape, batch[1].shape))"
   ]
  },
  {
   "cell_type": "code",
   "execution_count": 14,
   "metadata": {},
   "outputs": [
    {
     "data": {
      "text/plain": [
       "960"
      ]
     },
     "execution_count": 14,
     "metadata": {},
     "output_type": "execute_result"
    }
   ],
   "source": [
    "8 * 120"
   ]
  },
  {
   "cell_type": "markdown",
   "metadata": {},
   "source": [
    "The role of `shuffle`:"
   ]
  },
  {
   "cell_type": "code",
   "execution_count": 15,
   "metadata": {},
   "outputs": [
    {
     "data": {
      "text/plain": [
       "array([[0.85947651, 0.09372491, 0.75527096],\n",
       "       [0.26281156, 0.69091648, 0.42206684],\n",
       "       [0.42276066, 0.30803046, 0.19653052],\n",
       "       [0.10400577, 0.92005444, 0.35451293],\n",
       "       [0.29006227, 0.38132924, 0.75781685],\n",
       "       [0.4709169 , 0.2505317 , 0.8489055 ],\n",
       "       [0.0422964 , 0.40896571, 0.01149554],\n",
       "       [0.1216619 , 0.68492442, 0.02574815],\n",
       "       [0.82674549, 0.35385504, 0.04260736],\n",
       "       [0.16240417, 0.36400479, 0.83371621],\n",
       "       [0.24851833, 0.45396492, 0.85627252],\n",
       "       [0.17479832, 0.78794813, 0.0019138 ],\n",
       "       [0.37837223, 0.46565723, 0.06533789],\n",
       "       [0.58513366, 0.07921436, 0.50818068],\n",
       "       [0.18702735, 0.35028043, 0.36220023],\n",
       "       [0.38439896, 0.17751642, 0.17988496],\n",
       "       [0.7819334 , 0.27054542, 0.3282167 ],\n",
       "       [0.96577835, 0.02286969, 0.84153235],\n",
       "       [0.31915478, 0.56332266, 0.20919681],\n",
       "       [0.19547413, 0.01462426, 0.60147446],\n",
       "       [0.28412972, 0.65420121, 0.03355739],\n",
       "       [0.53581228, 0.6558097 , 0.90798998],\n",
       "       [0.54933189, 0.60793459, 0.85581964],\n",
       "       [0.82124014, 0.9267863 , 0.63625342],\n",
       "       [0.80821412, 0.3934533 , 0.22712301],\n",
       "       [0.72876195, 0.6266765 , 0.31361061],\n",
       "       [0.52327072, 0.67905283, 0.90183449],\n",
       "       [0.63496609, 0.44335762, 0.91782337],\n",
       "       [0.36220022, 0.12217426, 0.33490986],\n",
       "       [0.6362534 , 0.47542104, 0.35028043],\n",
       "       [0.44556392, 0.91921431, 0.58513367],\n",
       "       [0.4844662 , 0.14562787, 0.78615779],\n",
       "       [0.73441343, 0.96513236, 0.41310054],\n",
       "       [0.84153233, 0.59647959, 0.97736883],\n",
       "       [0.92176467, 0.55129743, 0.54440844],\n",
       "       [0.13403493, 0.73075724, 0.95964056],\n",
       "       [0.41676343, 0.78730929, 0.51754725],\n",
       "       [0.49287159, 0.09787352, 0.40710494],\n",
       "       [0.40853748, 0.56390232, 0.62542069],\n",
       "       [0.62667652, 0.00498438, 0.97540444],\n",
       "       [0.32366751, 0.92617553, 0.17209509],\n",
       "       [0.08465305, 0.6568861 , 0.41193679],\n",
       "       [0.87780157, 0.09698305, 0.19148603],\n",
       "       [0.99201941, 0.93267363, 0.33739752],\n",
       "       [0.16086399, 0.65250063, 0.78193343],\n",
       "       [0.13136309, 0.6779359 , 0.14061691],\n",
       "       [0.35142779, 0.05037102, 0.09486263],\n",
       "       [0.80991135, 0.19203316, 0.01283003],\n",
       "       [0.21534552, 0.35995927, 0.14314727],\n",
       "       [0.99021224, 0.75527096, 0.4844662 ],\n",
       "       [0.12077365, 0.86184883, 0.71099073],\n",
       "       [0.90183446, 0.88486367, 0.36334112],\n",
       "       [0.32029459, 0.88635761, 0.54346597],\n",
       "       [0.32517399, 0.97026432, 0.87772143],\n",
       "       [0.58734198, 0.19547413, 0.71668464],\n",
       "       [0.802189  , 0.01945439, 0.41940871],\n",
       "       [0.28987849, 0.87573373, 0.25324589],\n",
       "       [0.47916642, 0.13247836, 0.39292982],\n",
       "       [0.60278395, 0.09175301, 0.60079926],\n",
       "       [0.0637027 , 0.12796275, 0.9693042 ],\n",
       "       [0.38860848, 0.57140744, 0.91540813],\n",
       "       [0.7547763 , 0.58496439, 0.61886638],\n",
       "       [0.18075365, 0.47001091, 0.74192256],\n",
       "       [0.61895989, 0.71820664, 0.17263943],\n",
       "       [0.59296361, 0.14921607, 0.49911383],\n",
       "       [0.42015251, 0.63637942, 0.6017831 ],\n",
       "       [0.17988496, 0.8472386 , 0.02098599],\n",
       "       [0.26205828, 0.47916642, 0.9632737 ],\n",
       "       [0.00671907, 0.33739752, 0.6975171 ],\n",
       "       [0.42120672, 0.70056176, 0.58734196],\n",
       "       [0.29986141, 0.51377708, 0.0232862 ],\n",
       "       [0.65580968, 0.10798975, 0.91272348],\n",
       "       [0.49837613, 0.39292982, 0.83912861],\n",
       "       [0.38194692, 0.74094349, 0.96042436],\n",
       "       [0.95964057, 0.54572111, 0.04268416],\n",
       "       [0.22073761, 0.29370487, 0.36574656],\n",
       "       [0.3421628 , 0.5487166 , 0.23162393],\n",
       "       [0.3454045 , 0.80893195, 0.12816651],\n",
       "       [0.46018085, 0.2729997 , 0.66712117],\n",
       "       [0.26710053, 0.03714467, 0.85127431],\n",
       "       [0.05150362, 0.6541329 , 0.05444459],\n",
       "       [0.45396491, 0.17794801, 0.25091144],\n",
       "       [0.82952821, 0.20959111, 0.38112584],\n",
       "       [0.82353173, 0.63638735, 0.51709574],\n",
       "       [0.36199929, 0.90396243, 0.03714467],\n",
       "       [0.38653733, 0.88904905, 0.4998605 ],\n",
       "       [0.44837272, 0.99021226, 0.84972429],\n",
       "       [0.62542071, 0.38456705, 0.33912861],\n",
       "       [0.47371351, 0.17892657, 0.54524112],\n",
       "       [0.51691318, 0.24564493, 0.23704934],\n",
       "       [0.75337088, 0.46194732, 0.92793751],\n",
       "       [0.96513236, 0.97579938, 0.50154668],\n",
       "       [0.71099072, 0.81381476, 0.632725  ],\n",
       "       [0.82480199, 0.42722183, 0.79948896],\n",
       "       [0.2234529 , 0.76029867, 0.22849423],\n",
       "       [0.69807647, 0.439955  , 0.31831753],\n",
       "       [0.83953883, 0.75610006, 0.38439897],\n",
       "       [0.10990951, 0.76025987, 0.99793875],\n",
       "       [0.27738504, 0.22757015, 0.73654228],\n",
       "       [0.28723126, 0.76335239, 0.33785838],\n",
       "       [0.20327541, 0.51471293, 0.54572111],\n",
       "       [0.78687132, 0.82124013, 0.87338924],\n",
       "       [0.32022442, 0.91483438, 0.40847144],\n",
       "       [0.16441779, 0.81464714, 0.15666065],\n",
       "       [0.74939282, 0.05315321, 0.74939281],\n",
       "       [0.51363564, 0.87867785, 0.42282444],\n",
       "       [0.0264553 , 0.38112584, 0.02431795],\n",
       "       [0.75610005, 0.66344422, 0.42722183],\n",
       "       [0.35459111, 0.54524112, 0.90496695],\n",
       "       [0.01544547, 0.19835514, 0.4669705 ],\n",
       "       [0.96402948, 0.70747864, 0.85691774],\n",
       "       [0.09667839, 0.98268074, 0.13121001],\n",
       "       [0.73756536, 0.31148523, 0.28265709],\n",
       "       [0.7056191 , 0.25102252, 0.43089721],\n",
       "       [0.68693237, 0.44798207, 0.84608877],\n",
       "       [0.85127428, 0.6019603 , 0.39019936],\n",
       "       [0.45719997, 0.42015252, 0.890836  ],\n",
       "       [0.81890847, 0.43798131, 0.38948962],\n",
       "       [0.13612832, 0.45408759, 0.67293185],\n",
       "       [0.35995927, 0.11532306, 0.39015868]])"
      ]
     },
     "execution_count": 15,
     "metadata": {},
     "output_type": "execute_result"
    }
   ],
   "source": [
    "first_batch = []\n",
    "\n",
    "for epoch in range(2):\n",
    "    for idx, batch in enumerate(train_loader):\n",
    "        if idx == 0:\n",
    "            first_batch.append(batch)\n",
    "        \n",
    "np.c_[X_train[:batch_size], first_batch[0][0].numpy(), first_batch[1][0].numpy()]"
   ]
  },
  {
   "cell_type": "markdown",
   "metadata": {},
   "source": [
    "## Models"
   ]
  },
  {
   "cell_type": "markdown",
   "metadata": {},
   "source": [
    "We implement a linear model $$x \\mapsto model(x):=A x + b$$ \n",
    "\n",
    "with $A\\in \\mathbb{R}^{input\\_dim\\times output\\_dim}$, $b\\in\\mathbb{R}^{output\\_dim}$."
   ]
  },
  {
   "cell_type": "code",
   "execution_count": 16,
   "metadata": {},
   "outputs": [],
   "source": [
    "import torch.nn as nn\n",
    "import torch\n",
    "\n",
    "#%% Linear layer\n",
    "class LinearModel(nn.Module):\n",
    "    def __init__(self, input_dim, output_dim):\n",
    "        super(LinearModel, self).__init__()\n",
    "\n",
    "        self.input_dim = input_dim\n",
    "        self.output_dim = output_dim\n",
    "\n",
    "        self.linear = nn.Linear(self.input_dim, self.output_dim, bias=True)\n",
    "\n",
    "    def forward(self, x):\n",
    "        out = self.linear(x)\n",
    "        return out\n",
    "    \n",
    "    def reset(self):\n",
    "        self.linear.reset_parameters()"
   ]
  },
  {
   "cell_type": "code",
   "execution_count": 17,
   "metadata": {},
   "outputs": [],
   "source": [
    "model = LinearModel(input_dim, output_dim)"
   ]
  },
  {
   "cell_type": "markdown",
   "metadata": {},
   "source": [
    "### Model inspection"
   ]
  },
  {
   "cell_type": "code",
   "execution_count": 18,
   "metadata": {},
   "outputs": [
    {
     "name": "stdout",
     "output_type": "stream",
     "text": [
      "LinearModel(\n",
      "  (linear): Linear(in_features=1, out_features=1, bias=True)\n",
      ")\n"
     ]
    }
   ],
   "source": [
    "print(model)"
   ]
  },
  {
   "cell_type": "markdown",
   "metadata": {},
   "source": [
    "See [pytorch.org/docs/stable/nn.html](https://pytorch.org/docs/stable/nn.html) for many other layers."
   ]
  },
  {
   "cell_type": "code",
   "execution_count": 19,
   "metadata": {},
   "outputs": [
    {
     "data": {
      "text/plain": [
       "[Parameter containing:\n",
       " tensor([[-0.7040]], requires_grad=True),\n",
       " Parameter containing:\n",
       " tensor([0.4561], requires_grad=True)]"
      ]
     },
     "execution_count": 19,
     "metadata": {},
     "output_type": "execute_result"
    }
   ],
   "source": [
    "list(model.parameters())"
   ]
  },
  {
   "cell_type": "code",
   "execution_count": 20,
   "metadata": {},
   "outputs": [
    {
     "data": {
      "text/plain": [
       "Parameter containing:\n",
       "tensor([[-0.7040]], requires_grad=True)"
      ]
     },
     "execution_count": 20,
     "metadata": {},
     "output_type": "execute_result"
    }
   ],
   "source": [
    "model.linear.weight"
   ]
  },
  {
   "cell_type": "code",
   "execution_count": 21,
   "metadata": {},
   "outputs": [
    {
     "data": {
      "text/plain": [
       "Parameter containing:\n",
       "tensor([0.4561], requires_grad=True)"
      ]
     },
     "execution_count": 21,
     "metadata": {},
     "output_type": "execute_result"
    }
   ],
   "source": [
    "model.linear.bias"
   ]
  },
  {
   "cell_type": "markdown",
   "metadata": {},
   "source": [
    "### The `forward` method"
   ]
  },
  {
   "cell_type": "code",
   "execution_count": 22,
   "metadata": {},
   "outputs": [
    {
     "data": {
      "text/plain": [
       "tensor([[ 0.9513],\n",
       "        [ 0.2425],\n",
       "        [-0.2161],\n",
       "        [-1.0249],\n",
       "        [-0.7295]], grad_fn=<AddmmBackward0>)"
      ]
     },
     "execution_count": 22,
     "metadata": {},
     "output_type": "execute_result"
    }
   ],
   "source": [
    "x = torch.randn(5, input_dim)\n",
    "model.forward(x)"
   ]
  },
  {
   "cell_type": "code",
   "execution_count": 23,
   "metadata": {},
   "outputs": [
    {
     "data": {
      "text/plain": [
       "[tensor([0.9513], grad_fn=<AddBackward0>),\n",
       " tensor([0.2425], grad_fn=<AddBackward0>),\n",
       " tensor([-0.2161], grad_fn=<AddBackward0>),\n",
       " tensor([-1.0249], grad_fn=<AddBackward0>),\n",
       " tensor([-0.7295], grad_fn=<AddBackward0>)]"
      ]
     },
     "execution_count": 23,
     "metadata": {},
     "output_type": "execute_result"
    }
   ],
   "source": [
    "[model.linear.weight @ xx + model.linear.bias for xx in x]"
   ]
  },
  {
   "cell_type": "code",
   "execution_count": 24,
   "metadata": {},
   "outputs": [
    {
     "data": {
      "image/png": "[encoded data removed]",
      "text/plain": [
       "<Figure size 432x288 with 1 Axes>"
      ]
     },
     "metadata": {
      "needs_background": "light"
     },
     "output_type": "display_data"
    }
   ],
   "source": [
    "if input_dim == output_dim == 1:\n",
    "    fig = plt.figure()\n",
    "    fig.clf()\n",
    "    ax = fig.gca()\n",
    "    ax.plot(training_set.input_data, training_set.output_data, '.')\n",
    "    ax.plot(training_set.input_data, model.forward(training_set.input_data).detach().numpy(), '.')\n",
    "    ax.grid(True)\n",
    "    ax.set_xlabel('X_train')\n",
    "    ax.legend(['y_train', 'model(X_train)'])    "
   ]
  },
  {
   "cell_type": "markdown",
   "metadata": {},
   "source": [
    "## Losses"
   ]
  },
  {
   "cell_type": "markdown",
   "metadata": {},
   "source": [
    "### The MSE loss"
   ]
  },
  {
   "cell_type": "markdown",
   "metadata": {},
   "source": [
    "The MSE loss is\n",
    "$$\n",
    "L(y, y') = \\|y-y'\\|_2^2\n",
    "$$"
   ]
  },
  {
   "cell_type": "code",
   "execution_count": 25,
   "metadata": {},
   "outputs": [],
   "source": [
    "import torch.nn as nn\n",
    "loss_fun = nn.MSELoss(reduction='mean')"
   ]
  },
  {
   "cell_type": "markdown",
   "metadata": {},
   "source": [
    "More at [pytorch.org/docs/stable/nn.html#loss-functions](https://pytorch.org/docs/stable/nn.html#loss-functions)"
   ]
  },
  {
   "cell_type": "code",
   "execution_count": 26,
   "metadata": {},
   "outputs": [
    {
     "data": {
      "text/plain": [
       "tensor(2.)"
      ]
     },
     "execution_count": 26,
     "metadata": {},
     "output_type": "execute_result"
    }
   ],
   "source": [
    "x = torch.tensor(np.array([1, 2, 1]).astype('f'))\n",
    "z = torch.tensor(np.array([0, 0, 0]).astype('f'))\n",
    "loss_fun(x, z)"
   ]
  },
  {
   "cell_type": "markdown",
   "metadata": {},
   "source": [
    "### Giving a score to the model (parameters) given the training set"
   ]
  },
  {
   "cell_type": "markdown",
   "metadata": {},
   "source": [
    "The loss for one data pair $(x_i, y_i)$ is \n",
    "$$\n",
    "L(model(x_i), y_i)\n",
    "$$\n",
    "\n",
    "The cumulative (average) loss on the training set is \n",
    "$$\n",
    "L(X_{train}, y_{train}):=\\frac{1}{n_{train}} \\sum_{i=1}^{n_{train}} L(model(x_i), y_i)\n",
    "$$"
   ]
  },
  {
   "cell_type": "code",
   "execution_count": 27,
   "metadata": {},
   "outputs": [
    {
     "ename": "IndexError",
     "evalue": "list index out of range",
     "output_type": "error",
     "traceback": [
      "\u001b[0;31m---------------------------------------------------------------------------\u001b[0m",
      "\u001b[0;31mIndexError\u001b[0m                                Traceback (most recent call last)",
      "\u001b[0;32m/tmp/ipykernel_51/3716101907.py\u001b[0m in \u001b[0;36m<module>\u001b[0;34m\u001b[0m\n\u001b[1;32m     22\u001b[0m     \u001b[0max\u001b[0m\u001b[0;34m.\u001b[0m\u001b[0mset_ylabel\u001b[0m\u001b[0;34m(\u001b[0m\u001b[0;34m'bias'\u001b[0m\u001b[0;34m)\u001b[0m\u001b[0;34m\u001b[0m\u001b[0;34m\u001b[0m\u001b[0m\n\u001b[1;32m     23\u001b[0m     \u001b[0max\u001b[0m\u001b[0;34m.\u001b[0m\u001b[0mset_xlabel\u001b[0m\u001b[0;34m(\u001b[0m\u001b[0;34m'weight'\u001b[0m\u001b[0;34m)\u001b[0m\u001b[0;34m\u001b[0m\u001b[0;34m\u001b[0m\u001b[0m\n\u001b[0;32m---> 24\u001b[0;31m     \u001b[0max\u001b[0m\u001b[0;34m.\u001b[0m\u001b[0mlegend\u001b[0m\u001b[0;34m(\u001b[0m\u001b[0;34m[\u001b[0m\u001b[0;34m'(A, b)'\u001b[0m\u001b[0;34m]\u001b[0m\u001b[0;34m)\u001b[0m\u001b[0;34m\u001b[0m\u001b[0;34m\u001b[0m\u001b[0m\n\u001b[0m\u001b[1;32m     25\u001b[0m \u001b[0;34m\u001b[0m\u001b[0m\n\u001b[1;32m     26\u001b[0m     \u001b[0max\u001b[0m\u001b[0;34m.\u001b[0m\u001b[0mgrid\u001b[0m\u001b[0;34m(\u001b[0m\u001b[0;32mTrue\u001b[0m\u001b[0;34m)\u001b[0m\u001b[0;34m\u001b[0m\u001b[0;34m\u001b[0m\u001b[0m\n",
      "\u001b[0;32m/opt/conda/lib/python3.7/site-packages/matplotlib/axes/_axes.py\u001b[0m in \u001b[0;36mlegend\u001b[0;34m(self, *args, **kwargs)\u001b[0m\n\u001b[1;32m    303\u001b[0m         \u001b[0;32mif\u001b[0m \u001b[0mlen\u001b[0m\u001b[0;34m(\u001b[0m\u001b[0mextra_args\u001b[0m\u001b[0;34m)\u001b[0m\u001b[0;34m:\u001b[0m\u001b[0;34m\u001b[0m\u001b[0;34m\u001b[0m\u001b[0m\n\u001b[1;32m    304\u001b[0m             \u001b[0;32mraise\u001b[0m \u001b[0mTypeError\u001b[0m\u001b[0;34m(\u001b[0m\u001b[0;34m'legend only accepts two non-keyword arguments'\u001b[0m\u001b[0;34m)\u001b[0m\u001b[0;34m\u001b[0m\u001b[0;34m\u001b[0m\u001b[0m\n\u001b[0;32m--> 305\u001b[0;31m         \u001b[0mself\u001b[0m\u001b[0;34m.\u001b[0m\u001b[0mlegend_\u001b[0m \u001b[0;34m=\u001b[0m \u001b[0mmlegend\u001b[0m\u001b[0;34m.\u001b[0m\u001b[0mLegend\u001b[0m\u001b[0;34m(\u001b[0m\u001b[0mself\u001b[0m\u001b[0;34m,\u001b[0m \u001b[0mhandles\u001b[0m\u001b[0;34m,\u001b[0m \u001b[0mlabels\u001b[0m\u001b[0;34m,\u001b[0m \u001b[0;34m**\u001b[0m\u001b[0mkwargs\u001b[0m\u001b[0;34m)\u001b[0m\u001b[0;34m\u001b[0m\u001b[0;34m\u001b[0m\u001b[0m\n\u001b[0m\u001b[1;32m    306\u001b[0m         \u001b[0mself\u001b[0m\u001b[0;34m.\u001b[0m\u001b[0mlegend_\u001b[0m\u001b[0;34m.\u001b[0m\u001b[0m_remove_method\u001b[0m \u001b[0;34m=\u001b[0m \u001b[0mself\u001b[0m\u001b[0;34m.\u001b[0m\u001b[0m_remove_legend\u001b[0m\u001b[0;34m\u001b[0m\u001b[0;34m\u001b[0m\u001b[0m\n\u001b[1;32m    307\u001b[0m         \u001b[0;32mreturn\u001b[0m \u001b[0mself\u001b[0m\u001b[0;34m.\u001b[0m\u001b[0mlegend_\u001b[0m\u001b[0;34m\u001b[0m\u001b[0;34m\u001b[0m\u001b[0m\n",
      "\u001b[0;32m/opt/conda/lib/python3.7/site-packages/matplotlib/legend.py\u001b[0m in \u001b[0;36m__init__\u001b[0;34m(self, parent, handles, labels, loc, numpoints, markerscale, markerfirst, scatterpoints, scatteryoffsets, prop, fontsize, labelcolor, borderpad, labelspacing, handlelength, handleheight, handletextpad, borderaxespad, columnspacing, ncol, mode, fancybox, shadow, title, title_fontsize, framealpha, edgecolor, facecolor, bbox_to_anchor, bbox_transform, frameon, handler_map, title_fontproperties)\u001b[0m\n\u001b[1;32m    497\u001b[0m \u001b[0;34m\u001b[0m\u001b[0m\n\u001b[1;32m    498\u001b[0m         \u001b[0;31m# init with null renderer\u001b[0m\u001b[0;34m\u001b[0m\u001b[0;34m\u001b[0m\u001b[0;34m\u001b[0m\u001b[0m\n\u001b[0;32m--> 499\u001b[0;31m         \u001b[0mself\u001b[0m\u001b[0;34m.\u001b[0m\u001b[0m_init_legend_box\u001b[0m\u001b[0;34m(\u001b[0m\u001b[0mhandles\u001b[0m\u001b[0;34m,\u001b[0m \u001b[0mlabels\u001b[0m\u001b[0;34m,\u001b[0m \u001b[0mmarkerfirst\u001b[0m\u001b[0;34m)\u001b[0m\u001b[0;34m\u001b[0m\u001b[0;34m\u001b[0m\u001b[0m\n\u001b[0m\u001b[1;32m    500\u001b[0m \u001b[0;34m\u001b[0m\u001b[0m\n\u001b[1;32m    501\u001b[0m         \u001b[0mtmp\u001b[0m \u001b[0;34m=\u001b[0m \u001b[0mself\u001b[0m\u001b[0;34m.\u001b[0m\u001b[0m_loc_used_default\u001b[0m\u001b[0;34m\u001b[0m\u001b[0;34m\u001b[0m\u001b[0m\n",
      "\u001b[0;32m/opt/conda/lib/python3.7/site-packages/matplotlib/legend.py\u001b[0m in \u001b[0;36m_init_legend_box\u001b[0;34m(self, handles, labels, markerfirst)\u001b[0m\n\u001b[1;32m    779\u001b[0m                 \u001b[0;31m# original artist/handle.\u001b[0m\u001b[0;34m\u001b[0m\u001b[0;34m\u001b[0m\u001b[0;34m\u001b[0m\u001b[0m\n\u001b[1;32m    780\u001b[0m                 handle_list.append(handler.legend_artist(self, orig_handle,\n\u001b[0;32m--> 781\u001b[0;31m                                                          fontsize, handlebox))\n\u001b[0m\u001b[1;32m    782\u001b[0m                 \u001b[0mhandles_and_labels\u001b[0m\u001b[0;34m.\u001b[0m\u001b[0mappend\u001b[0m\u001b[0;34m(\u001b[0m\u001b[0;34m(\u001b[0m\u001b[0mhandlebox\u001b[0m\u001b[0;34m,\u001b[0m \u001b[0mtextbox\u001b[0m\u001b[0;34m)\u001b[0m\u001b[0;34m)\u001b[0m\u001b[0;34m\u001b[0m\u001b[0;34m\u001b[0m\u001b[0m\n\u001b[1;32m    783\u001b[0m \u001b[0;34m\u001b[0m\u001b[0m\n",
      "\u001b[0;32m/opt/conda/lib/python3.7/site-packages/matplotlib/legend_handler.py\u001b[0m in \u001b[0;36mlegend_artist\u001b[0;34m(self, legend, orig_handle, fontsize, handlebox)\u001b[0m\n\u001b[1;32m    119\u001b[0m         artists = self.create_artists(legend, orig_handle,\n\u001b[1;32m    120\u001b[0m                                       \u001b[0mxdescent\u001b[0m\u001b[0;34m,\u001b[0m \u001b[0mydescent\u001b[0m\u001b[0;34m,\u001b[0m \u001b[0mwidth\u001b[0m\u001b[0;34m,\u001b[0m \u001b[0mheight\u001b[0m\u001b[0;34m,\u001b[0m\u001b[0;34m\u001b[0m\u001b[0;34m\u001b[0m\u001b[0m\n\u001b[0;32m--> 121\u001b[0;31m                                       fontsize, handlebox.get_transform())\n\u001b[0m\u001b[1;32m    122\u001b[0m \u001b[0;34m\u001b[0m\u001b[0m\n\u001b[1;32m    123\u001b[0m         \u001b[0;32mif\u001b[0m \u001b[0misinstance\u001b[0m\u001b[0;34m(\u001b[0m\u001b[0martists\u001b[0m\u001b[0;34m,\u001b[0m \u001b[0m_Line2DHandleList\u001b[0m\u001b[0;34m)\u001b[0m\u001b[0;34m:\u001b[0m\u001b[0;34m\u001b[0m\u001b[0;34m\u001b[0m\u001b[0m\n",
      "\u001b[0;32m/opt/conda/lib/python3.7/site-packages/matplotlib/legend_handler.py\u001b[0m in \u001b[0;36mcreate_artists\u001b[0;34m(self, legend, orig_handle, xdescent, ydescent, width, height, fontsize, trans)\u001b[0m\n\u001b[1;32m    515\u001b[0m         p = self.create_collection(orig_handle, sizes,\n\u001b[1;32m    516\u001b[0m                                    \u001b[0moffsets\u001b[0m\u001b[0;34m=\u001b[0m\u001b[0mlist\u001b[0m\u001b[0;34m(\u001b[0m\u001b[0mzip\u001b[0m\u001b[0;34m(\u001b[0m\u001b[0mxdata_marker\u001b[0m\u001b[0;34m,\u001b[0m \u001b[0mydata\u001b[0m\u001b[0;34m)\u001b[0m\u001b[0;34m)\u001b[0m\u001b[0;34m,\u001b[0m\u001b[0;34m\u001b[0m\u001b[0;34m\u001b[0m\u001b[0m\n\u001b[0;32m--> 517\u001b[0;31m                                    transOffset=trans)\n\u001b[0m\u001b[1;32m    518\u001b[0m \u001b[0;34m\u001b[0m\u001b[0m\n\u001b[1;32m    519\u001b[0m         \u001b[0mself\u001b[0m\u001b[0;34m.\u001b[0m\u001b[0mupdate_prop\u001b[0m\u001b[0;34m(\u001b[0m\u001b[0mp\u001b[0m\u001b[0;34m,\u001b[0m \u001b[0morig_handle\u001b[0m\u001b[0;34m,\u001b[0m \u001b[0mlegend\u001b[0m\u001b[0;34m)\u001b[0m\u001b[0;34m\u001b[0m\u001b[0;34m\u001b[0m\u001b[0m\n",
      "\u001b[0;32m/opt/conda/lib/python3.7/site-packages/matplotlib/legend_handler.py\u001b[0m in \u001b[0;36mcreate_collection\u001b[0;34m(self, orig_handle, sizes, offsets, transOffset)\u001b[0m\n\u001b[1;32m    525\u001b[0m     \u001b[0;34mr\"\"\"Handler for `.PathCollection`\\s, which are used by `~.Axes.scatter`.\"\"\"\u001b[0m\u001b[0;34m\u001b[0m\u001b[0;34m\u001b[0m\u001b[0m\n\u001b[1;32m    526\u001b[0m     \u001b[0;32mdef\u001b[0m \u001b[0mcreate_collection\u001b[0m\u001b[0;34m(\u001b[0m\u001b[0mself\u001b[0m\u001b[0;34m,\u001b[0m \u001b[0morig_handle\u001b[0m\u001b[0;34m,\u001b[0m \u001b[0msizes\u001b[0m\u001b[0;34m,\u001b[0m \u001b[0moffsets\u001b[0m\u001b[0;34m,\u001b[0m \u001b[0mtransOffset\u001b[0m\u001b[0;34m)\u001b[0m\u001b[0;34m:\u001b[0m\u001b[0;34m\u001b[0m\u001b[0;34m\u001b[0m\u001b[0m\n\u001b[0;32m--> 527\u001b[0;31m         p = type(orig_handle)([orig_handle.get_paths()[0]],\n\u001b[0m\u001b[1;32m    528\u001b[0m                               \u001b[0msizes\u001b[0m\u001b[0;34m=\u001b[0m\u001b[0msizes\u001b[0m\u001b[0;34m,\u001b[0m\u001b[0;34m\u001b[0m\u001b[0;34m\u001b[0m\u001b[0m\n\u001b[1;32m    529\u001b[0m                               \u001b[0moffsets\u001b[0m\u001b[0;34m=\u001b[0m\u001b[0moffsets\u001b[0m\u001b[0;34m,\u001b[0m\u001b[0;34m\u001b[0m\u001b[0;34m\u001b[0m\u001b[0m\n",
      "\u001b[0;31mIndexError\u001b[0m: list index out of range"
     ]
    },
    {
     "data": {
      "image/png": "[encoded data removed]",
      "text/plain": [
       "<Figure size 720x576 with 2 Axes>"
      ]
     },
     "metadata": {
      "needs_background": "light"
     },
     "output_type": "display_data"
    }
   ],
   "source": [
    "if input_dim == output_dim == 1:\n",
    "\n",
    "    state_dict = model.state_dict()\n",
    "\n",
    "    ww, bb = np.meshgrid(np.linspace(-2, 2, 30), np.linspace(-2, 2, 30))\n",
    "\n",
    "    loss_values = 0 * ww\n",
    "    for i in range(ww.shape[0]):\n",
    "        for j in range(ww.shape[1]):\n",
    "            state_dict['linear.weight'] = torch.tensor([[ww[i, j]]])\n",
    "            state_dict['linear.bias'] = torch.tensor([bb[i, j]])\n",
    "            model.load_state_dict(state_dict)\n",
    "            loss_values[i, j] = loss_fun(model.forward(training_set.input_data),  training_set.output_data)\n",
    "\n",
    "    fig = plt.figure(figsize=(10, 8))\n",
    "    fig.clf()\n",
    "    ax = fig.gca()\n",
    "    levels = np.logspace(np.log(np.min(loss_values)), np.log(np.max(loss_values)), 20)\n",
    "    c=ax.contourf(ww, bb, loss_values, levels=levels, norm=colors.LogNorm())\n",
    "    plt.colorbar(c)\n",
    "    ax.plot(A[0], b, 'r*', markersize=10)\n",
    "    ax.set_ylabel('bias')\n",
    "    ax.set_xlabel('weight')\n",
    "    ax.legend(['(A, b)'])\n",
    "    \n",
    "    ax.grid(True)    "
   ]
  },
  {
   "cell_type": "markdown",
   "metadata": {},
   "source": [
    "## Optimization"
   ]
  },
  {
   "cell_type": "markdown",
   "metadata": {},
   "source": [
    "Goal: minimize the loss given the data:\n",
    "$$\n",
    "\\min\\limits_{par \\in model} L(X_{train}, y_{train})\n",
    "=\\min\\limits_{par \\in model} \\frac{1}{n_{train}} \\sum_{i=1}^{n_{train}} L(x_i, model(x_i))\n",
    "$$\n",
    "\n",
    "In this case $par =\\{A, b\\}$."
   ]
  },
  {
   "cell_type": "markdown",
   "metadata": {},
   "source": [
    "Iterative gradient based optimization:\n",
    "\\begin{align*}\n",
    "par^{(0)} &= par_0\\\\\n",
    "par^{(k+1)} &=  par^{(k)} - \\eta^{(k)} \\nabla_{par} L(X_{train}, y_{train})\n",
    "\\end{align*}    \n",
    "with learning rate $\\eta^{(k)}$."
   ]
  },
  {
   "cell_type": "markdown",
   "metadata": {},
   "source": [
    "### Gradients"
   ]
  },
  {
   "cell_type": "markdown",
   "metadata": {},
   "source": [
    "The model is \n",
    "$$\n",
    "model(x) = A x + b\n",
    "$$\n",
    "\n",
    "With $input\\_dim = output\\_dim = 1$ we have $A:=a\\in\\mathbb{R},\\ b\\in\\mathbb{R}$. \n",
    "\n",
    "For a data pair $(x, y)$ the loss is\n",
    "\\begin{align*}\n",
    "L(x, y) \n",
    "&= \\|model(x)-y\\|_2^2\\\\ \n",
    "&= (model(x)-y)^2\\\\\n",
    "&= (a x + b - y)^2\\\\\n",
    "&= a^2 x^2 + 2 a b x - 2 a xy + b^2 -2 b y + y^2.\n",
    "\\end{align*}\n",
    "\n",
    "We can compute\n",
    "\\begin{align*}\n",
    "\\nabla_a L(x, y) \n",
    "&= 2 a x^2 + 2 b x - 2 xy\n",
    "=2 x (a x + b - y)\\\\\n",
    "\\nabla_b L(x, y)\n",
    "&= 2 a x + 2 b - 2 y\n",
    "= 2 (ax + b - y).\n",
    "\\end{align*}\n"
   ]
  },
  {
   "cell_type": "code",
   "execution_count": 28,
   "metadata": {},
   "outputs": [],
   "source": [
    "x = torch.randn(1, input_dim)\n",
    "y =  torch.randn(1, output_dim)\n",
    "\n",
    "model.zero_grad()\n",
    "loss = loss_fun(model.forward(x),  y)\n",
    "loss.backward()"
   ]
  },
  {
   "cell_type": "code",
   "execution_count": 29,
   "metadata": {},
   "outputs": [
    {
     "name": "stdout",
     "output_type": "stream",
     "text": [
      "tensor([[6.7349]])\n",
      "tensor([[6.7349]], grad_fn=<MulBackward0>)\n",
      "tensor([-3.0517])\n",
      "tensor([[-3.0517]], grad_fn=<MulBackward0>)\n"
     ]
    }
   ],
   "source": [
    "if input_dim == output_dim == 1:\n",
    "    print(model.linear.weight.grad)\n",
    "    print(2 * x * (model.linear.weight * x + model.linear.bias - y))\n",
    "    \n",
    "    print(model.linear.bias.grad)\n",
    "    print(2 * (model.linear.weight * x + model.linear.bias - y))"
   ]
  },
  {
   "cell_type": "markdown",
   "metadata": {},
   "source": [
    "### Handmade optimization"
   ]
  },
  {
   "cell_type": "code",
   "execution_count": 30,
   "metadata": {},
   "outputs": [],
   "source": [
    "if input_dim == output_dim == 1:\n",
    "\n",
    "    num_iter = 200\n",
    "    lr = 0.5 # 0.01\n",
    "\n",
    "    train_hist = {}\n",
    "    train_hist['weight'] = []\n",
    "    train_hist['bias'] = []\n",
    "\n",
    "    model.reset()\n",
    "    state_dict = model.state_dict()\n",
    "\n",
    "    for _ in range(num_iter):\n",
    "\n",
    "        model.zero_grad()\n",
    "        loss = loss_fun(model.forward(training_set.input_data), training_set.output_data)\n",
    "        loss.backward()\n",
    "\n",
    "        w = model.linear.weight.item()\n",
    "        b = model.linear.bias.item()\n",
    "\n",
    "        dw = model.linear.weight.grad.item()\n",
    "        db = model.linear.bias.grad.item()\n",
    "\n",
    "        state_dict['linear.weight'] += torch.tensor([-lr * dw])\n",
    "        state_dict['linear.bias'] += torch.tensor([-lr * db])\n",
    "        model.load_state_dict(state_dict)\n",
    "\n",
    "        train_hist['weight'].append(w)\n",
    "        train_hist['bias'].append(b)\n",
    "\n",
    "    for label in train_hist:\n",
    "        train_hist[label] = np.array(train_hist[label])"
   ]
  },
  {
   "cell_type": "code",
   "execution_count": 31,
   "metadata": {},
   "outputs": [
    {
     "data": {
      "image/png": "[encoded data removed]",
      "text/plain": [
       "<Figure size 576x576 with 1 Axes>"
      ]
     },
     "metadata": {
      "needs_background": "light"
     },
     "output_type": "display_data"
    }
   ],
   "source": [
    "if input_dim == output_dim == 1:\n",
    "    fig = plt.figure(figsize=(8, 8))\n",
    "    fig.clf()\n",
    "    ax = fig.gca()\n",
    "    levels = np.logspace(np.log(np.min(loss_values)), np.log(np.max(loss_values)), 20)\n",
    "    ax.contourf(ww, bb, loss_values, levels=levels, norm=colors.LogNorm())\n",
    "    ax.set_xlabel('weight')\n",
    "    ax.set_ylabel('bias')\n",
    "    ax.grid(True)\n",
    "    ax.set_xlim(-2, 2) \n",
    "    ax.set_ylim(-2, 2) \n",
    "    \n",
    "    ax.plot(train_hist['weight'], train_hist['bias'], '.-b')\n",
    "    ax.plot(A[0], b, 'r*', markersize=10)\n",
    "\n",
    "    #ax.legend(['optim', '(A, b)'])"
   ]
  },
  {
   "cell_type": "markdown",
   "metadata": {},
   "source": [
    "### Stochastic GD"
   ]
  },
  {
   "cell_type": "markdown",
   "metadata": {},
   "source": [
    "* Avoid loading the full training set\n",
    "* Avoid evaluating the model on the full training set"
   ]
  },
  {
   "cell_type": "markdown",
   "metadata": {},
   "source": [
    "At every step, compute the loss on a batch of data $(X^{(k)}, y^{(k)})\\sim (X_{train}, y_{train})$: \n",
    "\n",
    "\\begin{align*}\n",
    "L(X^{(k)}, y^{(k)}) := \\sum_{(x, y) \\in (X^{(k)}, y^{(k)})} L(x, model(x)).\n",
    "\\end{align*}    \n",
    "\n",
    "and then update with this approximated gradient:\n",
    "\\begin{align*}\n",
    "par^{(k+1)} &=  par^{(k)} - \\eta^{(k)} \\nabla_{par} L(X^{(k)}, y^{(k)}). \n",
    "\\end{align*}    "
   ]
  },
  {
   "cell_type": "markdown",
   "metadata": {},
   "source": [
    "### PyTorch `optim`"
   ]
  },
  {
   "cell_type": "code",
   "execution_count": 32,
   "metadata": {},
   "outputs": [],
   "source": [
    "lr = 0.1\n",
    "weight_decay = 5e-4\n",
    "optimizer = torch.optim.Adam(model.parameters(), lr=lr, weight_decay=weight_decay)"
   ]
  },
  {
   "cell_type": "markdown",
   "metadata": {},
   "source": [
    "More at [pytorch.org/docs/stable/optim.html](https://pytorch.org/docs/stable/optim.html)."
   ]
  },
  {
   "cell_type": "code",
   "execution_count": 33,
   "metadata": {},
   "outputs": [],
   "source": [
    "n_epochs = 100"
   ]
  },
  {
   "cell_type": "code",
   "execution_count": 34,
   "metadata": {},
   "outputs": [
    {
     "name": "stdout",
     "output_type": "stream",
     "text": [
      "[Epoch    1/ 100] [Batch    1/   9] Loss:  7.03e-01\n",
      "[Epoch    1/ 100] [Batch    2/   9] Loss:  4.31e-01\n",
      "[Epoch    1/ 100] [Batch    3/   9] Loss:  2.66e-01\n",
      "[Epoch    1/ 100] [Batch    4/   9] Loss:  1.35e-01\n",
      "[Epoch    1/ 100] [Batch    5/   9] Loss:  5.07e-02\n",
      "[Epoch    1/ 100] [Batch    6/   9] Loss:  1.03e-02\n",
      "[Epoch    1/ 100] [Batch    7/   9] Loss:  2.51e-03\n",
      "[Epoch    1/ 100] [Batch    8/   9] Loss:  1.74e-02\n",
      "[Epoch    1/ 100] [Batch    9/   9] Loss:  4.76e-02\n",
      "[Epoch    2/ 100] [Batch    1/   9] Loss:  7.06e-02\n",
      "[Epoch    2/ 100] [Batch    2/   9] Loss:  9.33e-02\n",
      "[Epoch    2/ 100] [Batch    3/   9] Loss:  1.08e-01\n",
      "[Epoch    2/ 100] [Batch    4/   9] Loss:  1.08e-01\n",
      "[Epoch    2/ 100] [Batch    5/   9] Loss:  9.42e-02\n",
      "[Epoch    2/ 100] [Batch    6/   9] Loss:  7.65e-02\n",
      "[Epoch    2/ 100] [Batch    7/   9] Loss:  5.51e-02\n",
      "[Epoch    2/ 100] [Batch    8/   9] Loss:  3.19e-02\n",
      "[Epoch    2/ 100] [Batch    9/   9] Loss:  1.59e-02\n",
      "[Epoch    3/ 100] [Batch    1/   9] Loss:  6.46e-03\n",
      "[Epoch    3/ 100] [Batch    2/   9] Loss:  1.75e-03\n",
      "[Epoch    3/ 100] [Batch    3/   9] Loss:  2.68e-03\n",
      "[Epoch    3/ 100] [Batch    4/   9] Loss:  7.47e-03\n",
      "[Epoch    3/ 100] [Batch    5/   9] Loss:  1.49e-02\n",
      "[Epoch    3/ 100] [Batch    6/   9] Loss:  2.13e-02\n",
      "[Epoch    3/ 100] [Batch    7/   9] Loss:  2.47e-02\n",
      "[Epoch    3/ 100] [Batch    8/   9] Loss:  2.80e-02\n",
      "[Epoch    3/ 100] [Batch    9/   9] Loss:  2.57e-02\n",
      "[Epoch    4/ 100] [Batch    1/   9] Loss:  2.15e-02\n",
      "[Epoch    4/ 100] [Batch    2/   9] Loss:  1.76e-02\n",
      "[Epoch    4/ 100] [Batch    3/   9] Loss:  1.29e-02\n",
      "[Epoch    4/ 100] [Batch    4/   9] Loss:  8.13e-03\n",
      "[Epoch    4/ 100] [Batch    5/   9] Loss:  3.63e-03\n",
      "[Epoch    4/ 100] [Batch    6/   9] Loss:  1.87e-03\n",
      "[Epoch    4/ 100] [Batch    7/   9] Loss:  1.63e-03\n",
      "[Epoch    4/ 100] [Batch    8/   9] Loss:  2.47e-03\n",
      "[Epoch    4/ 100] [Batch    9/   9] Loss:  5.72e-03\n",
      "[Epoch    5/ 100] [Batch    1/   9] Loss:  5.94e-03\n",
      "[Epoch    5/ 100] [Batch    2/   9] Loss:  7.44e-03\n",
      "[Epoch    5/ 100] [Batch    3/   9] Loss:  9.36e-03\n",
      "[Epoch    5/ 100] [Batch    4/   9] Loss:  8.60e-03\n",
      "[Epoch    5/ 100] [Batch    5/   9] Loss:  6.53e-03\n",
      "[Epoch    5/ 100] [Batch    6/   9] Loss:  5.99e-03\n",
      "[Epoch    5/ 100] [Batch    7/   9] Loss:  4.32e-03\n",
      "[Epoch    5/ 100] [Batch    8/   9] Loss:  2.35e-03\n",
      "[Epoch    5/ 100] [Batch    9/   9] Loss:  1.75e-03\n",
      "[Epoch    6/ 100] [Batch    1/   9] Loss:  1.38e-03\n",
      "[Epoch    6/ 100] [Batch    2/   9] Loss:  1.85e-03\n",
      "[Epoch    6/ 100] [Batch    3/   9] Loss:  2.13e-03\n",
      "[Epoch    6/ 100] [Batch    4/   9] Loss:  3.48e-03\n",
      "[Epoch    6/ 100] [Batch    5/   9] Loss:  2.95e-03\n",
      "[Epoch    6/ 100] [Batch    6/   9] Loss:  3.25e-03\n",
      "[Epoch    6/ 100] [Batch    7/   9] Loss:  2.58e-03\n",
      "[Epoch    6/ 100] [Batch    8/   9] Loss:  3.97e-03\n",
      "[Epoch    6/ 100] [Batch    9/   9] Loss:  2.02e-03\n",
      "[Epoch    7/ 100] [Batch    1/   9] Loss:  2.24e-03\n",
      "[Epoch    7/ 100] [Batch    2/   9] Loss:  1.56e-03\n",
      "[Epoch    7/ 100] [Batch    3/   9] Loss:  1.59e-03\n",
      "[Epoch    7/ 100] [Batch    4/   9] Loss:  1.66e-03\n",
      "[Epoch    7/ 100] [Batch    5/   9] Loss:  1.68e-03\n",
      "[Epoch    7/ 100] [Batch    6/   9] Loss:  1.51e-03\n",
      "[Epoch    7/ 100] [Batch    7/   9] Loss:  1.69e-03\n",
      "[Epoch    7/ 100] [Batch    8/   9] Loss:  2.21e-03\n",
      "[Epoch    7/ 100] [Batch    9/   9] Loss:  1.96e-03\n",
      "[Epoch    8/ 100] [Batch    1/   9] Loss:  2.10e-03\n",
      "[Epoch    8/ 100] [Batch    2/   9] Loss:  2.03e-03\n",
      "[Epoch    8/ 100] [Batch    3/   9] Loss:  1.73e-03\n",
      "[Epoch    8/ 100] [Batch    4/   9] Loss:  1.49e-03\n",
      "[Epoch    8/ 100] [Batch    5/   9] Loss:  1.88e-03\n",
      "[Epoch    8/ 100] [Batch    6/   9] Loss:  1.24e-03\n",
      "[Epoch    8/ 100] [Batch    7/   9] Loss:  1.60e-03\n",
      "[Epoch    8/ 100] [Batch    8/   9] Loss:  1.65e-03\n",
      "[Epoch    8/ 100] [Batch    9/   9] Loss:  1.59e-03\n",
      "[Epoch    9/ 100] [Batch    1/   9] Loss:  2.09e-03\n",
      "[Epoch    9/ 100] [Batch    2/   9] Loss:  1.67e-03\n",
      "[Epoch    9/ 100] [Batch    3/   9] Loss:  1.71e-03\n",
      "[Epoch    9/ 100] [Batch    4/   9] Loss:  2.02e-03\n",
      "[Epoch    9/ 100] [Batch    5/   9] Loss:  1.39e-03\n",
      "[Epoch    9/ 100] [Batch    6/   9] Loss:  1.19e-03\n",
      "[Epoch    9/ 100] [Batch    7/   9] Loss:  1.32e-03\n",
      "[Epoch    9/ 100] [Batch    8/   9] Loss:  1.70e-03\n",
      "[Epoch    9/ 100] [Batch    9/   9] Loss:  7.28e-04\n",
      "[Epoch   10/ 100] [Batch    1/   9] Loss:  1.84e-03\n",
      "[Epoch   10/ 100] [Batch    2/   9] Loss:  1.66e-03\n",
      "[Epoch   10/ 100] [Batch    3/   9] Loss:  1.49e-03\n",
      "[Epoch   10/ 100] [Batch    4/   9] Loss:  1.64e-03\n",
      "[Epoch   10/ 100] [Batch    5/   9] Loss:  1.55e-03\n",
      "[Epoch   10/ 100] [Batch    6/   9] Loss:  1.46e-03\n",
      "[Epoch   10/ 100] [Batch    7/   9] Loss:  1.34e-03\n",
      "[Epoch   10/ 100] [Batch    8/   9] Loss:  1.36e-03\n",
      "[Epoch   10/ 100] [Batch    9/   9] Loss:  1.69e-03\n",
      "[Epoch   11/ 100] [Batch    1/   9] Loss:  1.79e-03\n",
      "[Epoch   11/ 100] [Batch    2/   9] Loss:  1.46e-03\n",
      "[Epoch   11/ 100] [Batch    3/   9] Loss:  1.21e-03\n",
      "[Epoch   11/ 100] [Batch    4/   9] Loss:  1.76e-03\n",
      "[Epoch   11/ 100] [Batch    5/   9] Loss:  1.53e-03\n",
      "[Epoch   11/ 100] [Batch    6/   9] Loss:  1.75e-03\n",
      "[Epoch   11/ 100] [Batch    7/   9] Loss:  1.53e-03\n",
      "[Epoch   11/ 100] [Batch    8/   9] Loss:  1.35e-03\n",
      "[Epoch   11/ 100] [Batch    9/   9] Loss:  1.35e-03\n",
      "[Epoch   12/ 100] [Batch    1/   9] Loss:  1.36e-03\n",
      "[Epoch   12/ 100] [Batch    2/   9] Loss:  1.66e-03\n",
      "[Epoch   12/ 100] [Batch    3/   9] Loss:  1.17e-03\n",
      "[Epoch   12/ 100] [Batch    4/   9] Loss:  1.92e-03\n",
      "[Epoch   12/ 100] [Batch    5/   9] Loss:  1.64e-03\n",
      "[Epoch   12/ 100] [Batch    6/   9] Loss:  1.61e-03\n",
      "[Epoch   12/ 100] [Batch    7/   9] Loss:  1.66e-03\n",
      "[Epoch   12/ 100] [Batch    8/   9] Loss:  1.26e-03\n",
      "[Epoch   12/ 100] [Batch    9/   9] Loss:  1.37e-03\n",
      "[Epoch   13/ 100] [Batch    1/   9] Loss:  1.80e-03\n",
      "[Epoch   13/ 100] [Batch    2/   9] Loss:  1.60e-03\n",
      "[Epoch   13/ 100] [Batch    3/   9] Loss:  1.57e-03\n",
      "[Epoch   13/ 100] [Batch    4/   9] Loss:  1.39e-03\n",
      "[Epoch   13/ 100] [Batch    5/   9] Loss:  1.42e-03\n",
      "[Epoch   13/ 100] [Batch    6/   9] Loss:  1.57e-03\n",
      "[Epoch   13/ 100] [Batch    7/   9] Loss:  1.52e-03\n",
      "[Epoch   13/ 100] [Batch    8/   9] Loss:  1.33e-03\n",
      "[Epoch   13/ 100] [Batch    9/   9] Loss:  1.42e-03\n",
      "[Epoch   14/ 100] [Batch    1/   9] Loss:  1.32e-03\n",
      "[Epoch   14/ 100] [Batch    2/   9] Loss:  1.57e-03\n",
      "[Epoch   14/ 100] [Batch    3/   9] Loss:  1.56e-03\n",
      "[Epoch   14/ 100] [Batch    4/   9] Loss:  1.36e-03\n",
      "[Epoch   14/ 100] [Batch    5/   9] Loss:  1.66e-03\n",
      "[Epoch   14/ 100] [Batch    6/   9] Loss:  1.53e-03\n",
      "[Epoch   14/ 100] [Batch    7/   9] Loss:  1.71e-03\n",
      "[Epoch   14/ 100] [Batch    8/   9] Loss:  1.57e-03\n",
      "[Epoch   14/ 100] [Batch    9/   9] Loss:  1.20e-03\n",
      "[Epoch   15/ 100] [Batch    1/   9] Loss:  1.73e-03\n",
      "[Epoch   15/ 100] [Batch    2/   9] Loss:  1.47e-03\n",
      "[Epoch   15/ 100] [Batch    3/   9] Loss:  1.28e-03\n",
      "[Epoch   15/ 100] [Batch    4/   9] Loss:  1.47e-03\n",
      "[Epoch   15/ 100] [Batch    5/   9] Loss:  1.38e-03\n",
      "[Epoch   15/ 100] [Batch    6/   9] Loss:  1.92e-03\n",
      "[Epoch   15/ 100] [Batch    7/   9] Loss:  1.43e-03\n",
      "[Epoch   15/ 100] [Batch    8/   9] Loss:  1.42e-03\n",
      "[Epoch   15/ 100] [Batch    9/   9] Loss:  1.78e-03\n",
      "[Epoch   16/ 100] [Batch    1/   9] Loss:  1.54e-03\n",
      "[Epoch   16/ 100] [Batch    2/   9] Loss:  1.38e-03\n",
      "[Epoch   16/ 100] [Batch    3/   9] Loss:  1.38e-03\n",
      "[Epoch   16/ 100] [Batch    4/   9] Loss:  1.62e-03\n",
      "[Epoch   16/ 100] [Batch    5/   9] Loss:  1.55e-03\n",
      "[Epoch   16/ 100] [Batch    6/   9] Loss:  1.39e-03\n",
      "[Epoch   16/ 100] [Batch    7/   9] Loss:  1.71e-03\n",
      "[Epoch   16/ 100] [Batch    8/   9] Loss:  1.67e-03\n",
      "[Epoch   16/ 100] [Batch    9/   9] Loss:  1.42e-03\n",
      "[Epoch   17/ 100] [Batch    1/   9] Loss:  1.47e-03\n",
      "[Epoch   17/ 100] [Batch    2/   9] Loss:  1.68e-03\n",
      "[Epoch   17/ 100] [Batch    3/   9] Loss:  1.43e-03\n",
      "[Epoch   17/ 100] [Batch    4/   9] Loss:  1.61e-03\n",
      "[Epoch   17/ 100] [Batch    5/   9] Loss:  1.58e-03\n",
      "[Epoch   17/ 100] [Batch    6/   9] Loss:  1.60e-03\n",
      "[Epoch   17/ 100] [Batch    7/   9] Loss:  1.34e-03\n",
      "[Epoch   17/ 100] [Batch    8/   9] Loss:  1.43e-03\n",
      "[Epoch   17/ 100] [Batch    9/   9] Loss:  1.62e-03\n",
      "[Epoch   18/ 100] [Batch    1/   9] Loss:  1.38e-03\n",
      "[Epoch   18/ 100] [Batch    2/   9] Loss:  1.46e-03\n",
      "[Epoch   18/ 100] [Batch    3/   9] Loss:  1.45e-03\n",
      "[Epoch   18/ 100] [Batch    4/   9] Loss:  1.55e-03\n",
      "[Epoch   18/ 100] [Batch    5/   9] Loss:  1.64e-03\n",
      "[Epoch   18/ 100] [Batch    6/   9] Loss:  1.85e-03\n",
      "[Epoch   18/ 100] [Batch    7/   9] Loss:  1.63e-03\n",
      "[Epoch   18/ 100] [Batch    8/   9] Loss:  1.36e-03\n",
      "[Epoch   18/ 100] [Batch    9/   9] Loss:  1.32e-03\n",
      "[Epoch   19/ 100] [Batch    1/   9] Loss:  1.75e-03\n",
      "[Epoch   19/ 100] [Batch    2/   9] Loss:  1.45e-03\n",
      "[Epoch   19/ 100] [Batch    3/   9] Loss:  1.56e-03\n",
      "[Epoch   19/ 100] [Batch    4/   9] Loss:  1.59e-03\n",
      "[Epoch   19/ 100] [Batch    5/   9] Loss:  1.67e-03\n",
      "[Epoch   19/ 100] [Batch    6/   9] Loss:  1.24e-03\n",
      "[Epoch   19/ 100] [Batch    7/   9] Loss:  1.54e-03\n",
      "[Epoch   19/ 100] [Batch    8/   9] Loss:  1.46e-03\n",
      "[Epoch   19/ 100] [Batch    9/   9] Loss:  1.29e-03\n",
      "[Epoch   20/ 100] [Batch    1/   9] Loss:  2.06e-03\n",
      "[Epoch   20/ 100] [Batch    2/   9] Loss:  1.28e-03\n",
      "[Epoch   20/ 100] [Batch    3/   9] Loss:  1.43e-03\n",
      "[Epoch   20/ 100] [Batch    4/   9] Loss:  1.42e-03\n",
      "[Epoch   20/ 100] [Batch    5/   9] Loss:  1.42e-03\n",
      "[Epoch   20/ 100] [Batch    6/   9] Loss:  1.52e-03\n",
      "[Epoch   20/ 100] [Batch    7/   9] Loss:  1.54e-03\n",
      "[Epoch   20/ 100] [Batch    8/   9] Loss:  1.51e-03\n",
      "[Epoch   20/ 100] [Batch    9/   9] Loss:  1.51e-03\n",
      "[Epoch   21/ 100] [Batch    1/   9] Loss:  1.48e-03\n",
      "[Epoch   21/ 100] [Batch    2/   9] Loss:  1.65e-03\n",
      "[Epoch   21/ 100] [Batch    3/   9] Loss:  1.43e-03\n",
      "[Epoch   21/ 100] [Batch    4/   9] Loss:  1.51e-03\n",
      "[Epoch   21/ 100] [Batch    5/   9] Loss:  1.42e-03\n",
      "[Epoch   21/ 100] [Batch    6/   9] Loss:  1.27e-03\n",
      "[Epoch   21/ 100] [Batch    7/   9] Loss:  1.57e-03\n",
      "[Epoch   21/ 100] [Batch    8/   9] Loss:  1.89e-03\n",
      "[Epoch   21/ 100] [Batch    9/   9] Loss:  1.44e-03\n",
      "[Epoch   22/ 100] [Batch    1/   9] Loss:  1.55e-03\n",
      "[Epoch   22/ 100] [Batch    2/   9] Loss:  1.49e-03\n",
      "[Epoch   22/ 100] [Batch    3/   9] Loss:  1.39e-03\n",
      "[Epoch   22/ 100] [Batch    4/   9] Loss:  1.76e-03\n",
      "[Epoch   22/ 100] [Batch    5/   9] Loss:  1.47e-03\n",
      "[Epoch   22/ 100] [Batch    6/   9] Loss:  1.86e-03\n",
      "[Epoch   22/ 100] [Batch    7/   9] Loss:  1.34e-03\n",
      "[Epoch   22/ 100] [Batch    8/   9] Loss:  1.48e-03\n",
      "[Epoch   22/ 100] [Batch    9/   9] Loss:  1.94e-03\n",
      "[Epoch   23/ 100] [Batch    1/   9] Loss:  1.36e-03\n",
      "[Epoch   23/ 100] [Batch    2/   9] Loss:  1.68e-03\n",
      "[Epoch   23/ 100] [Batch    3/   9] Loss:  1.76e-03\n",
      "[Epoch   23/ 100] [Batch    4/   9] Loss:  1.72e-03\n",
      "[Epoch   23/ 100] [Batch    5/   9] Loss:  1.36e-03\n",
      "[Epoch   23/ 100] [Batch    6/   9] Loss:  1.60e-03\n",
      "[Epoch   23/ 100] [Batch    7/   9] Loss:  1.68e-03\n",
      "[Epoch   23/ 100] [Batch    8/   9] Loss:  1.43e-03\n",
      "[Epoch   23/ 100] [Batch    9/   9] Loss:  1.54e-03\n",
      "[Epoch   24/ 100] [Batch    1/   9] Loss:  1.51e-03\n",
      "[Epoch   24/ 100] [Batch    2/   9] Loss:  1.27e-03\n",
      "[Epoch   24/ 100] [Batch    3/   9] Loss:  1.52e-03\n",
      "[Epoch   24/ 100] [Batch    4/   9] Loss:  1.94e-03\n",
      "[Epoch   24/ 100] [Batch    5/   9] Loss:  1.41e-03\n",
      "[Epoch   24/ 100] [Batch    6/   9] Loss:  1.58e-03\n",
      "[Epoch   24/ 100] [Batch    7/   9] Loss:  1.19e-03\n",
      "[Epoch   24/ 100] [Batch    8/   9] Loss:  1.76e-03\n",
      "[Epoch   24/ 100] [Batch    9/   9] Loss:  1.68e-03\n",
      "[Epoch   25/ 100] [Batch    1/   9] Loss:  1.44e-03\n",
      "[Epoch   25/ 100] [Batch    2/   9] Loss:  1.65e-03\n",
      "[Epoch   25/ 100] [Batch    3/   9] Loss:  1.56e-03\n",
      "[Epoch   25/ 100] [Batch    4/   9] Loss:  1.48e-03\n",
      "[Epoch   25/ 100] [Batch    5/   9] Loss:  1.50e-03\n",
      "[Epoch   25/ 100] [Batch    6/   9] Loss:  1.64e-03\n",
      "[Epoch   25/ 100] [Batch    7/   9] Loss:  1.56e-03\n",
      "[Epoch   25/ 100] [Batch    8/   9] Loss:  1.59e-03\n",
      "[Epoch   25/ 100] [Batch    9/   9] Loss:  1.22e-03\n",
      "[Epoch   26/ 100] [Batch    1/   9] Loss:  1.59e-03\n",
      "[Epoch   26/ 100] [Batch    2/   9] Loss:  1.20e-03\n",
      "[Epoch   26/ 100] [Batch    3/   9] Loss:  1.69e-03\n",
      "[Epoch   26/ 100] [Batch    4/   9] Loss:  1.70e-03\n",
      "[Epoch   26/ 100] [Batch    5/   9] Loss:  1.78e-03\n",
      "[Epoch   26/ 100] [Batch    6/   9] Loss:  1.68e-03\n",
      "[Epoch   26/ 100] [Batch    7/   9] Loss:  1.48e-03\n",
      "[Epoch   26/ 100] [Batch    8/   9] Loss:  1.34e-03\n",
      "[Epoch   26/ 100] [Batch    9/   9] Loss:  1.11e-03\n",
      "[Epoch   27/ 100] [Batch    1/   9] Loss:  1.45e-03\n",
      "[Epoch   27/ 100] [Batch    2/   9] Loss:  1.71e-03\n",
      "[Epoch   27/ 100] [Batch    3/   9] Loss:  1.50e-03\n",
      "[Epoch   27/ 100] [Batch    4/   9] Loss:  1.67e-03\n",
      "[Epoch   27/ 100] [Batch    5/   9] Loss:  1.60e-03\n",
      "[Epoch   27/ 100] [Batch    6/   9] Loss:  1.42e-03\n",
      "[Epoch   27/ 100] [Batch    7/   9] Loss:  1.56e-03\n",
      "[Epoch   27/ 100] [Batch    8/   9] Loss:  1.34e-03\n",
      "[Epoch   27/ 100] [Batch    9/   9] Loss:  1.72e-03\n",
      "[Epoch   28/ 100] [Batch    1/   9] Loss:  1.70e-03\n",
      "[Epoch   28/ 100] [Batch    2/   9] Loss:  1.65e-03\n",
      "[Epoch   28/ 100] [Batch    3/   9] Loss:  1.10e-03\n",
      "[Epoch   28/ 100] [Batch    4/   9] Loss:  1.60e-03\n",
      "[Epoch   28/ 100] [Batch    5/   9] Loss:  1.67e-03\n",
      "[Epoch   28/ 100] [Batch    6/   9] Loss:  1.61e-03\n",
      "[Epoch   28/ 100] [Batch    7/   9] Loss:  1.30e-03\n",
      "[Epoch   28/ 100] [Batch    8/   9] Loss:  1.63e-03\n",
      "[Epoch   28/ 100] [Batch    9/   9] Loss:  1.64e-03\n",
      "[Epoch   29/ 100] [Batch    1/   9] Loss:  1.62e-03\n",
      "[Epoch   29/ 100] [Batch    2/   9] Loss:  1.68e-03\n",
      "[Epoch   29/ 100] [Batch    3/   9] Loss:  1.30e-03\n",
      "[Epoch   29/ 100] [Batch    4/   9] Loss:  1.57e-03\n",
      "[Epoch   29/ 100] [Batch    5/   9] Loss:  1.81e-03\n",
      "[Epoch   29/ 100] [Batch    6/   9] Loss:  1.44e-03\n",
      "[Epoch   29/ 100] [Batch    7/   9] Loss:  1.49e-03\n",
      "[Epoch   29/ 100] [Batch    8/   9] Loss:  1.62e-03\n",
      "[Epoch   29/ 100] [Batch    9/   9] Loss:  1.27e-03\n",
      "[Epoch   30/ 100] [Batch    1/   9] Loss:  1.61e-03\n",
      "[Epoch   30/ 100] [Batch    2/   9] Loss:  1.53e-03\n",
      "[Epoch   30/ 100] [Batch    3/   9] Loss:  1.56e-03\n",
      "[Epoch   30/ 100] [Batch    4/   9] Loss:  1.59e-03\n",
      "[Epoch   30/ 100] [Batch    5/   9] Loss:  1.46e-03\n",
      "[Epoch   30/ 100] [Batch    6/   9] Loss:  1.63e-03\n",
      "[Epoch   30/ 100] [Batch    7/   9] Loss:  1.42e-03\n",
      "[Epoch   30/ 100] [Batch    8/   9] Loss:  1.67e-03\n",
      "[Epoch   30/ 100] [Batch    9/   9] Loss:  1.00e-03\n",
      "[Epoch   31/ 100] [Batch    1/   9] Loss:  1.72e-03\n",
      "[Epoch   31/ 100] [Batch    2/   9] Loss:  1.72e-03\n",
      "[Epoch   31/ 100] [Batch    3/   9] Loss:  1.47e-03\n",
      "[Epoch   31/ 100] [Batch    4/   9] Loss:  1.75e-03\n",
      "[Epoch   31/ 100] [Batch    5/   9] Loss:  1.48e-03\n",
      "[Epoch   31/ 100] [Batch    6/   9] Loss:  1.26e-03\n",
      "[Epoch   31/ 100] [Batch    7/   9] Loss:  1.39e-03\n",
      "[Epoch   31/ 100] [Batch    8/   9] Loss:  1.49e-03\n",
      "[Epoch   31/ 100] [Batch    9/   9] Loss:  1.30e-03\n",
      "[Epoch   32/ 100] [Batch    1/   9] Loss:  1.43e-03\n",
      "[Epoch   32/ 100] [Batch    2/   9] Loss:  1.62e-03\n",
      "[Epoch   32/ 100] [Batch    3/   9] Loss:  2.00e-03\n",
      "[Epoch   32/ 100] [Batch    4/   9] Loss:  1.32e-03\n",
      "[Epoch   32/ 100] [Batch    5/   9] Loss:  1.28e-03\n",
      "[Epoch   32/ 100] [Batch    6/   9] Loss:  1.28e-03\n",
      "[Epoch   32/ 100] [Batch    7/   9] Loss:  1.71e-03\n",
      "[Epoch   32/ 100] [Batch    8/   9] Loss:  1.65e-03\n",
      "[Epoch   32/ 100] [Batch    9/   9] Loss:  1.23e-03\n",
      "[Epoch   33/ 100] [Batch    1/   9] Loss:  1.52e-03\n",
      "[Epoch   33/ 100] [Batch    2/   9] Loss:  1.75e-03\n",
      "[Epoch   33/ 100] [Batch    3/   9] Loss:  1.56e-03\n",
      "[Epoch   33/ 100] [Batch    4/   9] Loss:  1.53e-03\n",
      "[Epoch   33/ 100] [Batch    5/   9] Loss:  1.83e-03\n",
      "[Epoch   33/ 100] [Batch    6/   9] Loss:  1.45e-03\n",
      "[Epoch   33/ 100] [Batch    7/   9] Loss:  1.31e-03\n",
      "[Epoch   33/ 100] [Batch    8/   9] Loss:  1.41e-03\n",
      "[Epoch   33/ 100] [Batch    9/   9] Loss:  9.49e-04\n",
      "[Epoch   34/ 100] [Batch    1/   9] Loss:  1.53e-03\n",
      "[Epoch   34/ 100] [Batch    2/   9] Loss:  1.86e-03\n",
      "[Epoch   34/ 100] [Batch    3/   9] Loss:  1.36e-03\n",
      "[Epoch   34/ 100] [Batch    4/   9] Loss:  1.39e-03\n",
      "[Epoch   34/ 100] [Batch    5/   9] Loss:  1.86e-03\n",
      "[Epoch   34/ 100] [Batch    6/   9] Loss:  1.41e-03\n",
      "[Epoch   34/ 100] [Batch    7/   9] Loss:  1.39e-03\n",
      "[Epoch   34/ 100] [Batch    8/   9] Loss:  1.52e-03\n",
      "[Epoch   34/ 100] [Batch    9/   9] Loss:  1.13e-03\n",
      "[Epoch   35/ 100] [Batch    1/   9] Loss:  1.61e-03\n",
      "[Epoch   35/ 100] [Batch    2/   9] Loss:  1.54e-03\n",
      "[Epoch   35/ 100] [Batch    3/   9] Loss:  1.54e-03\n",
      "[Epoch   35/ 100] [Batch    4/   9] Loss:  1.68e-03\n",
      "[Epoch   35/ 100] [Batch    5/   9] Loss:  1.41e-03\n",
      "[Epoch   35/ 100] [Batch    6/   9] Loss:  1.26e-03\n",
      "[Epoch   35/ 100] [Batch    7/   9] Loss:  1.36e-03\n",
      "[Epoch   35/ 100] [Batch    8/   9] Loss:  1.71e-03\n",
      "[Epoch   35/ 100] [Batch    9/   9] Loss:  1.83e-03\n",
      "[Epoch   36/ 100] [Batch    1/   9] Loss:  1.30e-03\n",
      "[Epoch   36/ 100] [Batch    2/   9] Loss:  1.52e-03\n",
      "[Epoch   36/ 100] [Batch    3/   9] Loss:  1.84e-03\n",
      "[Epoch   36/ 100] [Batch    4/   9] Loss:  1.64e-03\n",
      "[Epoch   36/ 100] [Batch    5/   9] Loss:  1.50e-03\n",
      "[Epoch   36/ 100] [Batch    6/   9] Loss:  1.50e-03\n",
      "[Epoch   36/ 100] [Batch    7/   9] Loss:  1.36e-03\n",
      "[Epoch   36/ 100] [Batch    8/   9] Loss:  1.54e-03\n",
      "[Epoch   36/ 100] [Batch    9/   9] Loss:  1.69e-03\n",
      "[Epoch   37/ 100] [Batch    1/   9] Loss:  1.54e-03\n",
      "[Epoch   37/ 100] [Batch    2/   9] Loss:  1.52e-03\n",
      "[Epoch   37/ 100] [Batch    3/   9] Loss:  1.43e-03\n",
      "[Epoch   37/ 100] [Batch    4/   9] Loss:  1.41e-03\n",
      "[Epoch   37/ 100] [Batch    5/   9] Loss:  1.62e-03\n",
      "[Epoch   37/ 100] [Batch    6/   9] Loss:  1.62e-03\n",
      "[Epoch   37/ 100] [Batch    7/   9] Loss:  1.60e-03\n",
      "[Epoch   37/ 100] [Batch    8/   9] Loss:  1.47e-03\n",
      "[Epoch   37/ 100] [Batch    9/   9] Loss:  1.74e-03\n",
      "[Epoch   38/ 100] [Batch    1/   9] Loss:  1.63e-03\n",
      "[Epoch   38/ 100] [Batch    2/   9] Loss:  1.46e-03\n",
      "[Epoch   38/ 100] [Batch    3/   9] Loss:  1.45e-03\n",
      "[Epoch   38/ 100] [Batch    4/   9] Loss:  1.59e-03\n",
      "[Epoch   38/ 100] [Batch    5/   9] Loss:  1.43e-03\n",
      "[Epoch   38/ 100] [Batch    6/   9] Loss:  1.65e-03\n",
      "[Epoch   38/ 100] [Batch    7/   9] Loss:  1.24e-03\n",
      "[Epoch   38/ 100] [Batch    8/   9] Loss:  1.71e-03\n",
      "[Epoch   38/ 100] [Batch    9/   9] Loss:  1.71e-03\n",
      "[Epoch   39/ 100] [Batch    1/   9] Loss:  1.49e-03\n",
      "[Epoch   39/ 100] [Batch    2/   9] Loss:  1.44e-03\n",
      "[Epoch   39/ 100] [Batch    3/   9] Loss:  1.35e-03\n",
      "[Epoch   39/ 100] [Batch    4/   9] Loss:  1.59e-03\n",
      "[Epoch   39/ 100] [Batch    5/   9] Loss:  1.85e-03\n",
      "[Epoch   39/ 100] [Batch    6/   9] Loss:  1.37e-03\n",
      "[Epoch   39/ 100] [Batch    7/   9] Loss:  1.34e-03\n",
      "[Epoch   39/ 100] [Batch    8/   9] Loss:  1.74e-03\n",
      "[Epoch   39/ 100] [Batch    9/   9] Loss:  1.62e-03\n",
      "[Epoch   40/ 100] [Batch    1/   9] Loss:  2.08e-03\n",
      "[Epoch   40/ 100] [Batch    2/   9] Loss:  1.25e-03\n",
      "[Epoch   40/ 100] [Batch    3/   9] Loss:  1.29e-03\n",
      "[Epoch   40/ 100] [Batch    4/   9] Loss:  1.39e-03\n",
      "[Epoch   40/ 100] [Batch    5/   9] Loss:  1.62e-03\n",
      "[Epoch   40/ 100] [Batch    6/   9] Loss:  1.42e-03\n",
      "[Epoch   40/ 100] [Batch    7/   9] Loss:  1.88e-03\n",
      "[Epoch   40/ 100] [Batch    8/   9] Loss:  1.38e-03\n",
      "[Epoch   40/ 100] [Batch    9/   9] Loss:  1.19e-03\n",
      "[Epoch   41/ 100] [Batch    1/   9] Loss:  1.52e-03\n",
      "[Epoch   41/ 100] [Batch    2/   9] Loss:  1.47e-03\n",
      "[Epoch   41/ 100] [Batch    3/   9] Loss:  1.58e-03\n",
      "[Epoch   41/ 100] [Batch    4/   9] Loss:  1.67e-03\n",
      "[Epoch   41/ 100] [Batch    5/   9] Loss:  1.64e-03\n",
      "[Epoch   41/ 100] [Batch    6/   9] Loss:  1.49e-03\n",
      "[Epoch   41/ 100] [Batch    7/   9] Loss:  1.68e-03\n",
      "[Epoch   41/ 100] [Batch    8/   9] Loss:  1.31e-03\n",
      "[Epoch   41/ 100] [Batch    9/   9] Loss:  1.14e-03\n",
      "[Epoch   42/ 100] [Batch    1/   9] Loss:  1.86e-03\n",
      "[Epoch   42/ 100] [Batch    2/   9] Loss:  1.49e-03\n",
      "[Epoch   42/ 100] [Batch    3/   9] Loss:  1.58e-03\n",
      "[Epoch   42/ 100] [Batch    4/   9] Loss:  1.54e-03\n",
      "[Epoch   42/ 100] [Batch    5/   9] Loss:  1.41e-03\n",
      "[Epoch   42/ 100] [Batch    6/   9] Loss:  1.33e-03\n",
      "[Epoch   42/ 100] [Batch    7/   9] Loss:  1.94e-03\n",
      "[Epoch   42/ 100] [Batch    8/   9] Loss:  1.30e-03\n",
      "[Epoch   42/ 100] [Batch    9/   9] Loss:  9.22e-04\n",
      "[Epoch   43/ 100] [Batch    1/   9] Loss:  1.69e-03\n",
      "[Epoch   43/ 100] [Batch    2/   9] Loss:  1.66e-03\n",
      "[Epoch   43/ 100] [Batch    3/   9] Loss:  1.50e-03\n",
      "[Epoch   43/ 100] [Batch    4/   9] Loss:  1.61e-03\n",
      "[Epoch   43/ 100] [Batch    5/   9] Loss:  1.41e-03\n",
      "[Epoch   43/ 100] [Batch    6/   9] Loss:  1.55e-03\n",
      "[Epoch   43/ 100] [Batch    7/   9] Loss:  1.28e-03\n",
      "[Epoch   43/ 100] [Batch    8/   9] Loss:  1.55e-03\n",
      "[Epoch   43/ 100] [Batch    9/   9] Loss:  1.51e-03\n",
      "[Epoch   44/ 100] [Batch    1/   9] Loss:  1.81e-03\n",
      "[Epoch   44/ 100] [Batch    2/   9] Loss:  1.74e-03\n",
      "[Epoch   44/ 100] [Batch    3/   9] Loss:  1.23e-03\n",
      "[Epoch   44/ 100] [Batch    4/   9] Loss:  1.74e-03\n",
      "[Epoch   44/ 100] [Batch    5/   9] Loss:  1.43e-03\n",
      "[Epoch   44/ 100] [Batch    6/   9] Loss:  1.51e-03\n",
      "[Epoch   44/ 100] [Batch    7/   9] Loss:  1.43e-03\n",
      "[Epoch   44/ 100] [Batch    8/   9] Loss:  1.58e-03\n",
      "[Epoch   44/ 100] [Batch    9/   9] Loss:  1.39e-03\n",
      "[Epoch   45/ 100] [Batch    1/   9] Loss:  1.14e-03\n",
      "[Epoch   45/ 100] [Batch    2/   9] Loss:  1.97e-03\n",
      "[Epoch   45/ 100] [Batch    3/   9] Loss:  1.58e-03\n",
      "[Epoch   45/ 100] [Batch    4/   9] Loss:  1.55e-03\n",
      "[Epoch   45/ 100] [Batch    5/   9] Loss:  1.71e-03\n",
      "[Epoch   45/ 100] [Batch    6/   9] Loss:  1.27e-03\n",
      "[Epoch   45/ 100] [Batch    7/   9] Loss:  1.42e-03\n",
      "[Epoch   45/ 100] [Batch    8/   9] Loss:  1.60e-03\n",
      "[Epoch   45/ 100] [Batch    9/   9] Loss:  1.30e-03\n",
      "[Epoch   46/ 100] [Batch    1/   9] Loss:  1.58e-03\n",
      "[Epoch   46/ 100] [Batch    2/   9] Loss:  1.51e-03\n",
      "[Epoch   46/ 100] [Batch    3/   9] Loss:  1.86e-03\n",
      "[Epoch   46/ 100] [Batch    4/   9] Loss:  1.24e-03\n",
      "[Epoch   46/ 100] [Batch    5/   9] Loss:  1.65e-03\n",
      "[Epoch   46/ 100] [Batch    6/   9] Loss:  1.46e-03\n",
      "[Epoch   46/ 100] [Batch    7/   9] Loss:  1.24e-03\n",
      "[Epoch   46/ 100] [Batch    8/   9] Loss:  1.62e-03\n",
      "[Epoch   46/ 100] [Batch    9/   9] Loss:  1.55e-03\n",
      "[Epoch   47/ 100] [Batch    1/   9] Loss:  1.42e-03\n",
      "[Epoch   47/ 100] [Batch    2/   9] Loss:  1.29e-03\n",
      "[Epoch   47/ 100] [Batch    3/   9] Loss:  1.58e-03\n",
      "[Epoch   47/ 100] [Batch    4/   9] Loss:  1.55e-03\n",
      "[Epoch   47/ 100] [Batch    5/   9] Loss:  1.61e-03\n",
      "[Epoch   47/ 100] [Batch    6/   9] Loss:  1.62e-03\n",
      "[Epoch   47/ 100] [Batch    7/   9] Loss:  1.67e-03\n",
      "[Epoch   47/ 100] [Batch    8/   9] Loss:  1.54e-03\n",
      "[Epoch   47/ 100] [Batch    9/   9] Loss:  1.55e-03\n",
      "[Epoch   48/ 100] [Batch    1/   9] Loss:  1.44e-03\n",
      "[Epoch   48/ 100] [Batch    2/   9] Loss:  1.23e-03\n",
      "[Epoch   48/ 100] [Batch    3/   9] Loss:  1.33e-03\n",
      "[Epoch   48/ 100] [Batch    4/   9] Loss:  1.74e-03\n",
      "[Epoch   48/ 100] [Batch    5/   9] Loss:  1.56e-03\n",
      "[Epoch   48/ 100] [Batch    6/   9] Loss:  1.86e-03\n",
      "[Epoch   48/ 100] [Batch    7/   9] Loss:  1.28e-03\n",
      "[Epoch   48/ 100] [Batch    8/   9] Loss:  1.63e-03\n",
      "[Epoch   48/ 100] [Batch    9/   9] Loss:  2.32e-03\n",
      "[Epoch   49/ 100] [Batch    1/   9] Loss:  1.99e-03\n",
      "[Epoch   49/ 100] [Batch    2/   9] Loss:  1.39e-03\n",
      "[Epoch   49/ 100] [Batch    3/   9] Loss:  1.30e-03\n",
      "[Epoch   49/ 100] [Batch    4/   9] Loss:  1.44e-03\n",
      "[Epoch   49/ 100] [Batch    5/   9] Loss:  1.60e-03\n",
      "[Epoch   49/ 100] [Batch    6/   9] Loss:  1.56e-03\n",
      "[Epoch   49/ 100] [Batch    7/   9] Loss:  1.67e-03\n",
      "[Epoch   49/ 100] [Batch    8/   9] Loss:  1.51e-03\n",
      "[Epoch   49/ 100] [Batch    9/   9] Loss:  7.89e-04\n",
      "[Epoch   50/ 100] [Batch    1/   9] Loss:  1.90e-03\n",
      "[Epoch   50/ 100] [Batch    2/   9] Loss:  1.60e-03\n",
      "[Epoch   50/ 100] [Batch    3/   9] Loss:  1.56e-03\n",
      "[Epoch   50/ 100] [Batch    4/   9] Loss:  1.79e-03\n",
      "[Epoch   50/ 100] [Batch    5/   9] Loss:  1.35e-03\n",
      "[Epoch   50/ 100] [Batch    6/   9] Loss:  1.42e-03\n",
      "[Epoch   50/ 100] [Batch    7/   9] Loss:  1.49e-03\n",
      "[Epoch   50/ 100] [Batch    8/   9] Loss:  1.37e-03\n",
      "[Epoch   50/ 100] [Batch    9/   9] Loss:  1.57e-03\n",
      "[Epoch   51/ 100] [Batch    1/   9] Loss:  1.66e-03\n",
      "[Epoch   51/ 100] [Batch    2/   9] Loss:  1.55e-03\n",
      "[Epoch   51/ 100] [Batch    3/   9] Loss:  1.79e-03\n",
      "[Epoch   51/ 100] [Batch    4/   9] Loss:  1.54e-03\n",
      "[Epoch   51/ 100] [Batch    5/   9] Loss:  1.68e-03\n",
      "[Epoch   51/ 100] [Batch    6/   9] Loss:  1.20e-03\n",
      "[Epoch   51/ 100] [Batch    7/   9] Loss:  1.52e-03\n",
      "[Epoch   51/ 100] [Batch    8/   9] Loss:  1.54e-03\n",
      "[Epoch   51/ 100] [Batch    9/   9] Loss:  1.75e-03\n",
      "[Epoch   52/ 100] [Batch    1/   9] Loss:  1.84e-03\n",
      "[Epoch   52/ 100] [Batch    2/   9] Loss:  1.30e-03\n",
      "[Epoch   52/ 100] [Batch    3/   9] Loss:  1.54e-03\n",
      "[Epoch   52/ 100] [Batch    4/   9] Loss:  1.80e-03\n",
      "[Epoch   52/ 100] [Batch    5/   9] Loss:  1.52e-03\n",
      "[Epoch   52/ 100] [Batch    6/   9] Loss:  1.25e-03\n",
      "[Epoch   52/ 100] [Batch    7/   9] Loss:  1.08e-03\n",
      "[Epoch   52/ 100] [Batch    8/   9] Loss:  1.85e-03\n",
      "[Epoch   52/ 100] [Batch    9/   9] Loss:  1.84e-03\n",
      "[Epoch   53/ 100] [Batch    1/   9] Loss:  1.22e-03\n",
      "[Epoch   53/ 100] [Batch    2/   9] Loss:  1.35e-03\n",
      "[Epoch   53/ 100] [Batch    3/   9] Loss:  1.55e-03\n",
      "[Epoch   53/ 100] [Batch    4/   9] Loss:  1.20e-03\n",
      "[Epoch   53/ 100] [Batch    5/   9] Loss:  1.87e-03\n",
      "[Epoch   53/ 100] [Batch    6/   9] Loss:  1.72e-03\n",
      "[Epoch   53/ 100] [Batch    7/   9] Loss:  1.60e-03\n",
      "[Epoch   53/ 100] [Batch    8/   9] Loss:  1.66e-03\n",
      "[Epoch   53/ 100] [Batch    9/   9] Loss:  1.66e-03\n",
      "[Epoch   54/ 100] [Batch    1/   9] Loss:  1.62e-03\n",
      "[Epoch   54/ 100] [Batch    2/   9] Loss:  1.76e-03\n",
      "[Epoch   54/ 100] [Batch    3/   9] Loss:  1.22e-03\n",
      "[Epoch   54/ 100] [Batch    4/   9] Loss:  1.32e-03\n",
      "[Epoch   54/ 100] [Batch    5/   9] Loss:  1.75e-03\n",
      "[Epoch   54/ 100] [Batch    6/   9] Loss:  1.61e-03\n",
      "[Epoch   54/ 100] [Batch    7/   9] Loss:  1.66e-03\n",
      "[Epoch   54/ 100] [Batch    8/   9] Loss:  1.45e-03\n",
      "[Epoch   54/ 100] [Batch    9/   9] Loss:  8.34e-04\n",
      "[Epoch   55/ 100] [Batch    1/   9] Loss:  1.55e-03\n",
      "[Epoch   55/ 100] [Batch    2/   9] Loss:  1.30e-03\n",
      "[Epoch   55/ 100] [Batch    3/   9] Loss:  1.31e-03\n",
      "[Epoch   55/ 100] [Batch    4/   9] Loss:  1.55e-03\n",
      "[Epoch   55/ 100] [Batch    5/   9] Loss:  1.44e-03\n",
      "[Epoch   55/ 100] [Batch    6/   9] Loss:  1.76e-03\n",
      "[Epoch   55/ 100] [Batch    7/   9] Loss:  1.68e-03\n",
      "[Epoch   55/ 100] [Batch    8/   9] Loss:  1.70e-03\n",
      "[Epoch   55/ 100] [Batch    9/   9] Loss:  1.37e-03\n",
      "[Epoch   56/ 100] [Batch    1/   9] Loss:  1.68e-03\n",
      "[Epoch   56/ 100] [Batch    2/   9] Loss:  1.43e-03\n",
      "[Epoch   56/ 100] [Batch    3/   9] Loss:  1.47e-03\n",
      "[Epoch   56/ 100] [Batch    4/   9] Loss:  1.48e-03\n",
      "[Epoch   56/ 100] [Batch    5/   9] Loss:  1.46e-03\n",
      "[Epoch   56/ 100] [Batch    6/   9] Loss:  1.40e-03\n",
      "[Epoch   56/ 100] [Batch    7/   9] Loss:  1.51e-03\n",
      "[Epoch   56/ 100] [Batch    8/   9] Loss:  1.61e-03\n",
      "[Epoch   56/ 100] [Batch    9/   9] Loss:  1.85e-03\n",
      "[Epoch   57/ 100] [Batch    1/   9] Loss:  1.56e-03\n",
      "[Epoch   57/ 100] [Batch    2/   9] Loss:  1.12e-03\n",
      "[Epoch   57/ 100] [Batch    3/   9] Loss:  1.60e-03\n",
      "[Epoch   57/ 100] [Batch    4/   9] Loss:  1.38e-03\n",
      "[Epoch   57/ 100] [Batch    5/   9] Loss:  1.43e-03\n",
      "[Epoch   57/ 100] [Batch    6/   9] Loss:  1.52e-03\n",
      "[Epoch   57/ 100] [Batch    7/   9] Loss:  1.73e-03\n",
      "[Epoch   57/ 100] [Batch    8/   9] Loss:  1.75e-03\n",
      "[Epoch   57/ 100] [Batch    9/   9] Loss:  2.02e-03\n",
      "[Epoch   58/ 100] [Batch    1/   9] Loss:  1.44e-03\n",
      "[Epoch   58/ 100] [Batch    2/   9] Loss:  1.40e-03\n",
      "[Epoch   58/ 100] [Batch    3/   9] Loss:  1.52e-03\n",
      "[Epoch   58/ 100] [Batch    4/   9] Loss:  1.51e-03\n",
      "[Epoch   58/ 100] [Batch    5/   9] Loss:  1.39e-03\n",
      "[Epoch   58/ 100] [Batch    6/   9] Loss:  1.55e-03\n",
      "[Epoch   58/ 100] [Batch    7/   9] Loss:  1.60e-03\n",
      "[Epoch   58/ 100] [Batch    8/   9] Loss:  1.73e-03\n",
      "[Epoch   58/ 100] [Batch    9/   9] Loss:  1.74e-03\n",
      "[Epoch   59/ 100] [Batch    1/   9] Loss:  1.63e-03\n",
      "[Epoch   59/ 100] [Batch    2/   9] Loss:  1.72e-03\n",
      "[Epoch   59/ 100] [Batch    3/   9] Loss:  1.55e-03\n",
      "[Epoch   59/ 100] [Batch    4/   9] Loss:  1.53e-03\n",
      "[Epoch   59/ 100] [Batch    5/   9] Loss:  1.34e-03\n",
      "[Epoch   59/ 100] [Batch    6/   9] Loss:  1.82e-03\n",
      "[Epoch   59/ 100] [Batch    7/   9] Loss:  1.40e-03\n",
      "[Epoch   59/ 100] [Batch    8/   9] Loss:  1.30e-03\n",
      "[Epoch   59/ 100] [Batch    9/   9] Loss:  1.29e-03\n",
      "[Epoch   60/ 100] [Batch    1/   9] Loss:  1.29e-03\n",
      "[Epoch   60/ 100] [Batch    2/   9] Loss:  1.63e-03\n",
      "[Epoch   60/ 100] [Batch    3/   9] Loss:  1.52e-03\n",
      "[Epoch   60/ 100] [Batch    4/   9] Loss:  1.57e-03\n",
      "[Epoch   60/ 100] [Batch    5/   9] Loss:  1.28e-03\n",
      "[Epoch   60/ 100] [Batch    6/   9] Loss:  1.46e-03\n",
      "[Epoch   60/ 100] [Batch    7/   9] Loss:  1.47e-03\n",
      "[Epoch   60/ 100] [Batch    8/   9] Loss:  2.04e-03\n",
      "[Epoch   60/ 100] [Batch    9/   9] Loss:  1.32e-03\n",
      "[Epoch   61/ 100] [Batch    1/   9] Loss:  1.66e-03\n",
      "[Epoch   61/ 100] [Batch    2/   9] Loss:  1.45e-03\n",
      "[Epoch   61/ 100] [Batch    3/   9] Loss:  1.48e-03\n",
      "[Epoch   61/ 100] [Batch    4/   9] Loss:  1.46e-03\n",
      "[Epoch   61/ 100] [Batch    5/   9] Loss:  1.55e-03\n",
      "[Epoch   61/ 100] [Batch    6/   9] Loss:  1.28e-03\n",
      "[Epoch   61/ 100] [Batch    7/   9] Loss:  1.87e-03\n",
      "[Epoch   61/ 100] [Batch    8/   9] Loss:  1.48e-03\n",
      "[Epoch   61/ 100] [Batch    9/   9] Loss:  1.55e-03\n",
      "[Epoch   62/ 100] [Batch    1/   9] Loss:  1.65e-03\n",
      "[Epoch   62/ 100] [Batch    2/   9] Loss:  1.46e-03\n",
      "[Epoch   62/ 100] [Batch    3/   9] Loss:  1.41e-03\n",
      "[Epoch   62/ 100] [Batch    4/   9] Loss:  1.38e-03\n",
      "[Epoch   62/ 100] [Batch    5/   9] Loss:  1.64e-03\n",
      "[Epoch   62/ 100] [Batch    6/   9] Loss:  1.42e-03\n",
      "[Epoch   62/ 100] [Batch    7/   9] Loss:  1.61e-03\n",
      "[Epoch   62/ 100] [Batch    8/   9] Loss:  1.56e-03\n",
      "[Epoch   62/ 100] [Batch    9/   9] Loss:  1.70e-03\n",
      "[Epoch   63/ 100] [Batch    1/   9] Loss:  1.50e-03\n",
      "[Epoch   63/ 100] [Batch    2/   9] Loss:  1.85e-03\n",
      "[Epoch   63/ 100] [Batch    3/   9] Loss:  1.48e-03\n",
      "[Epoch   63/ 100] [Batch    4/   9] Loss:  1.28e-03\n",
      "[Epoch   63/ 100] [Batch    5/   9] Loss:  1.27e-03\n",
      "[Epoch   63/ 100] [Batch    6/   9] Loss:  1.53e-03\n",
      "[Epoch   63/ 100] [Batch    7/   9] Loss:  1.50e-03\n",
      "[Epoch   63/ 100] [Batch    8/   9] Loss:  1.55e-03\n",
      "[Epoch   63/ 100] [Batch    9/   9] Loss:  2.00e-03\n",
      "[Epoch   64/ 100] [Batch    1/   9] Loss:  1.79e-03\n",
      "[Epoch   64/ 100] [Batch    2/   9] Loss:  1.45e-03\n",
      "[Epoch   64/ 100] [Batch    3/   9] Loss:  1.72e-03\n",
      "[Epoch   64/ 100] [Batch    4/   9] Loss:  1.55e-03\n",
      "[Epoch   64/ 100] [Batch    5/   9] Loss:  1.50e-03\n",
      "[Epoch   64/ 100] [Batch    6/   9] Loss:  1.52e-03\n",
      "[Epoch   64/ 100] [Batch    7/   9] Loss:  1.68e-03\n",
      "[Epoch   64/ 100] [Batch    8/   9] Loss:  1.42e-03\n",
      "[Epoch   64/ 100] [Batch    9/   9] Loss:  1.35e-03\n",
      "[Epoch   65/ 100] [Batch    1/   9] Loss:  1.71e-03\n",
      "[Epoch   65/ 100] [Batch    2/   9] Loss:  1.69e-03\n",
      "[Epoch   65/ 100] [Batch    3/   9] Loss:  1.61e-03\n",
      "[Epoch   65/ 100] [Batch    4/   9] Loss:  1.41e-03\n",
      "[Epoch   65/ 100] [Batch    5/   9] Loss:  1.68e-03\n",
      "[Epoch   65/ 100] [Batch    6/   9] Loss:  1.42e-03\n",
      "[Epoch   65/ 100] [Batch    7/   9] Loss:  1.20e-03\n",
      "[Epoch   65/ 100] [Batch    8/   9] Loss:  1.64e-03\n",
      "[Epoch   65/ 100] [Batch    9/   9] Loss:  1.56e-03\n",
      "[Epoch   66/ 100] [Batch    1/   9] Loss:  1.77e-03\n",
      "[Epoch   66/ 100] [Batch    2/   9] Loss:  1.50e-03\n",
      "[Epoch   66/ 100] [Batch    3/   9] Loss:  1.40e-03\n",
      "[Epoch   66/ 100] [Batch    4/   9] Loss:  1.93e-03\n",
      "[Epoch   66/ 100] [Batch    5/   9] Loss:  1.39e-03\n",
      "[Epoch   66/ 100] [Batch    6/   9] Loss:  1.46e-03\n",
      "[Epoch   66/ 100] [Batch    7/   9] Loss:  1.61e-03\n",
      "[Epoch   66/ 100] [Batch    8/   9] Loss:  1.22e-03\n",
      "[Epoch   66/ 100] [Batch    9/   9] Loss:  1.79e-03\n",
      "[Epoch   67/ 100] [Batch    1/   9] Loss:  1.54e-03\n",
      "[Epoch   67/ 100] [Batch    2/   9] Loss:  1.82e-03\n",
      "[Epoch   67/ 100] [Batch    3/   9] Loss:  1.12e-03\n",
      "[Epoch   67/ 100] [Batch    4/   9] Loss:  1.43e-03\n",
      "[Epoch   67/ 100] [Batch    5/   9] Loss:  1.73e-03\n",
      "[Epoch   67/ 100] [Batch    6/   9] Loss:  1.30e-03\n",
      "[Epoch   67/ 100] [Batch    7/   9] Loss:  1.54e-03\n",
      "[Epoch   67/ 100] [Batch    8/   9] Loss:  1.79e-03\n",
      "[Epoch   67/ 100] [Batch    9/   9] Loss:  1.17e-03\n",
      "[Epoch   68/ 100] [Batch    1/   9] Loss:  1.77e-03\n",
      "[Epoch   68/ 100] [Batch    2/   9] Loss:  1.80e-03\n",
      "[Epoch   68/ 100] [Batch    3/   9] Loss:  1.84e-03\n",
      "[Epoch   68/ 100] [Batch    4/   9] Loss:  1.24e-03\n",
      "[Epoch   68/ 100] [Batch    5/   9] Loss:  1.46e-03\n",
      "[Epoch   68/ 100] [Batch    6/   9] Loss:  1.40e-03\n",
      "[Epoch   68/ 100] [Batch    7/   9] Loss:  1.49e-03\n",
      "[Epoch   68/ 100] [Batch    8/   9] Loss:  1.22e-03\n",
      "[Epoch   68/ 100] [Batch    9/   9] Loss:  1.36e-03\n",
      "[Epoch   69/ 100] [Batch    1/   9] Loss:  1.67e-03\n",
      "[Epoch   69/ 100] [Batch    2/   9] Loss:  1.47e-03\n",
      "[Epoch   69/ 100] [Batch    3/   9] Loss:  1.27e-03\n",
      "[Epoch   69/ 100] [Batch    4/   9] Loss:  1.57e-03\n",
      "[Epoch   69/ 100] [Batch    5/   9] Loss:  1.58e-03\n",
      "[Epoch   69/ 100] [Batch    6/   9] Loss:  1.33e-03\n",
      "[Epoch   69/ 100] [Batch    7/   9] Loss:  1.42e-03\n",
      "[Epoch   69/ 100] [Batch    8/   9] Loss:  1.74e-03\n",
      "[Epoch   69/ 100] [Batch    9/   9] Loss:  2.02e-03\n",
      "[Epoch   70/ 100] [Batch    1/   9] Loss:  1.64e-03\n",
      "[Epoch   70/ 100] [Batch    2/   9] Loss:  1.44e-03\n",
      "[Epoch   70/ 100] [Batch    3/   9] Loss:  1.64e-03\n",
      "[Epoch   70/ 100] [Batch    4/   9] Loss:  1.74e-03\n",
      "[Epoch   70/ 100] [Batch    5/   9] Loss:  1.39e-03\n",
      "[Epoch   70/ 100] [Batch    6/   9] Loss:  1.48e-03\n",
      "[Epoch   70/ 100] [Batch    7/   9] Loss:  1.47e-03\n",
      "[Epoch   70/ 100] [Batch    8/   9] Loss:  1.49e-03\n",
      "[Epoch   70/ 100] [Batch    9/   9] Loss:  1.75e-03\n",
      "[Epoch   71/ 100] [Batch    1/   9] Loss:  1.60e-03\n",
      "[Epoch   71/ 100] [Batch    2/   9] Loss:  1.56e-03\n",
      "[Epoch   71/ 100] [Batch    3/   9] Loss:  1.33e-03\n",
      "[Epoch   71/ 100] [Batch    4/   9] Loss:  1.84e-03\n",
      "[Epoch   71/ 100] [Batch    5/   9] Loss:  1.39e-03\n",
      "[Epoch   71/ 100] [Batch    6/   9] Loss:  1.57e-03\n",
      "[Epoch   71/ 100] [Batch    7/   9] Loss:  1.56e-03\n",
      "[Epoch   71/ 100] [Batch    8/   9] Loss:  1.48e-03\n",
      "[Epoch   71/ 100] [Batch    9/   9] Loss:  1.79e-03\n",
      "[Epoch   72/ 100] [Batch    1/   9] Loss:  1.27e-03\n",
      "[Epoch   72/ 100] [Batch    2/   9] Loss:  1.83e-03\n",
      "[Epoch   72/ 100] [Batch    3/   9] Loss:  1.64e-03\n",
      "[Epoch   72/ 100] [Batch    4/   9] Loss:  1.76e-03\n",
      "[Epoch   72/ 100] [Batch    5/   9] Loss:  1.43e-03\n",
      "[Epoch   72/ 100] [Batch    6/   9] Loss:  1.69e-03\n",
      "[Epoch   72/ 100] [Batch    7/   9] Loss:  1.40e-03\n",
      "[Epoch   72/ 100] [Batch    8/   9] Loss:  1.23e-03\n",
      "[Epoch   72/ 100] [Batch    9/   9] Loss:  2.01e-03\n",
      "[Epoch   73/ 100] [Batch    1/   9] Loss:  1.80e-03\n",
      "[Epoch   73/ 100] [Batch    2/   9] Loss:  1.22e-03\n",
      "[Epoch   73/ 100] [Batch    3/   9] Loss:  1.82e-03\n",
      "[Epoch   73/ 100] [Batch    4/   9] Loss:  1.48e-03\n",
      "[Epoch   73/ 100] [Batch    5/   9] Loss:  1.54e-03\n",
      "[Epoch   73/ 100] [Batch    6/   9] Loss:  1.49e-03\n",
      "[Epoch   73/ 100] [Batch    7/   9] Loss:  1.59e-03\n",
      "[Epoch   73/ 100] [Batch    8/   9] Loss:  1.66e-03\n",
      "[Epoch   73/ 100] [Batch    9/   9] Loss:  1.49e-03\n",
      "[Epoch   74/ 100] [Batch    1/   9] Loss:  1.34e-03\n",
      "[Epoch   74/ 100] [Batch    2/   9] Loss:  1.34e-03\n",
      "[Epoch   74/ 100] [Batch    3/   9] Loss:  1.94e-03\n",
      "[Epoch   74/ 100] [Batch    4/   9] Loss:  1.57e-03\n",
      "[Epoch   74/ 100] [Batch    5/   9] Loss:  1.82e-03\n",
      "[Epoch   74/ 100] [Batch    6/   9] Loss:  1.49e-03\n",
      "[Epoch   74/ 100] [Batch    7/   9] Loss:  1.53e-03\n",
      "[Epoch   74/ 100] [Batch    8/   9] Loss:  1.38e-03\n",
      "[Epoch   74/ 100] [Batch    9/   9] Loss:  1.36e-03\n",
      "[Epoch   75/ 100] [Batch    1/   9] Loss:  1.32e-03\n",
      "[Epoch   75/ 100] [Batch    2/   9] Loss:  1.65e-03\n",
      "[Epoch   75/ 100] [Batch    3/   9] Loss:  1.72e-03\n",
      "[Epoch   75/ 100] [Batch    4/   9] Loss:  1.46e-03\n",
      "[Epoch   75/ 100] [Batch    5/   9] Loss:  1.54e-03\n",
      "[Epoch   75/ 100] [Batch    6/   9] Loss:  1.42e-03\n",
      "[Epoch   75/ 100] [Batch    7/   9] Loss:  1.72e-03\n",
      "[Epoch   75/ 100] [Batch    8/   9] Loss:  1.59e-03\n",
      "[Epoch   75/ 100] [Batch    9/   9] Loss:  1.34e-03\n",
      "[Epoch   76/ 100] [Batch    1/   9] Loss:  1.51e-03\n",
      "[Epoch   76/ 100] [Batch    2/   9] Loss:  1.62e-03\n",
      "[Epoch   76/ 100] [Batch    3/   9] Loss:  1.78e-03\n",
      "[Epoch   76/ 100] [Batch    4/   9] Loss:  1.60e-03\n",
      "[Epoch   76/ 100] [Batch    5/   9] Loss:  1.87e-03\n",
      "[Epoch   76/ 100] [Batch    6/   9] Loss:  1.50e-03\n",
      "[Epoch   76/ 100] [Batch    7/   9] Loss:  1.57e-03\n",
      "[Epoch   76/ 100] [Batch    8/   9] Loss:  1.35e-03\n",
      "[Epoch   76/ 100] [Batch    9/   9] Loss:  1.88e-03\n",
      "[Epoch   77/ 100] [Batch    1/   9] Loss:  1.73e-03\n",
      "[Epoch   77/ 100] [Batch    2/   9] Loss:  1.34e-03\n",
      "[Epoch   77/ 100] [Batch    3/   9] Loss:  1.45e-03\n",
      "[Epoch   77/ 100] [Batch    4/   9] Loss:  1.48e-03\n",
      "[Epoch   77/ 100] [Batch    5/   9] Loss:  1.56e-03\n",
      "[Epoch   77/ 100] [Batch    6/   9] Loss:  1.42e-03\n",
      "[Epoch   77/ 100] [Batch    7/   9] Loss:  1.51e-03\n",
      "[Epoch   77/ 100] [Batch    8/   9] Loss:  1.62e-03\n",
      "[Epoch   77/ 100] [Batch    9/   9] Loss:  1.69e-03\n",
      "[Epoch   78/ 100] [Batch    1/   9] Loss:  1.64e-03\n",
      "[Epoch   78/ 100] [Batch    2/   9] Loss:  1.73e-03\n",
      "[Epoch   78/ 100] [Batch    3/   9] Loss:  1.47e-03\n",
      "[Epoch   78/ 100] [Batch    4/   9] Loss:  1.49e-03\n",
      "[Epoch   78/ 100] [Batch    5/   9] Loss:  1.21e-03\n",
      "[Epoch   78/ 100] [Batch    6/   9] Loss:  1.50e-03\n",
      "[Epoch   78/ 100] [Batch    7/   9] Loss:  1.45e-03\n",
      "[Epoch   78/ 100] [Batch    8/   9] Loss:  1.58e-03\n",
      "[Epoch   78/ 100] [Batch    9/   9] Loss:  1.85e-03\n",
      "[Epoch   79/ 100] [Batch    1/   9] Loss:  1.72e-03\n",
      "[Epoch   79/ 100] [Batch    2/   9] Loss:  1.72e-03\n",
      "[Epoch   79/ 100] [Batch    3/   9] Loss:  1.45e-03\n",
      "[Epoch   79/ 100] [Batch    4/   9] Loss:  1.66e-03\n",
      "[Epoch   79/ 100] [Batch    5/   9] Loss:  1.30e-03\n",
      "[Epoch   79/ 100] [Batch    6/   9] Loss:  1.62e-03\n",
      "[Epoch   79/ 100] [Batch    7/   9] Loss:  1.22e-03\n",
      "[Epoch   79/ 100] [Batch    8/   9] Loss:  1.51e-03\n",
      "[Epoch   79/ 100] [Batch    9/   9] Loss:  1.67e-03\n",
      "[Epoch   80/ 100] [Batch    1/   9] Loss:  1.84e-03\n",
      "[Epoch   80/ 100] [Batch    2/   9] Loss:  1.65e-03\n",
      "[Epoch   80/ 100] [Batch    3/   9] Loss:  1.49e-03\n",
      "[Epoch   80/ 100] [Batch    4/   9] Loss:  1.56e-03\n",
      "[Epoch   80/ 100] [Batch    5/   9] Loss:  1.29e-03\n",
      "[Epoch   80/ 100] [Batch    6/   9] Loss:  1.66e-03\n",
      "[Epoch   80/ 100] [Batch    7/   9] Loss:  1.12e-03\n",
      "[Epoch   80/ 100] [Batch    8/   9] Loss:  1.62e-03\n",
      "[Epoch   80/ 100] [Batch    9/   9] Loss:  1.63e-03\n",
      "[Epoch   81/ 100] [Batch    1/   9] Loss:  1.47e-03\n",
      "[Epoch   81/ 100] [Batch    2/   9] Loss:  1.71e-03\n",
      "[Epoch   81/ 100] [Batch    3/   9] Loss:  1.92e-03\n",
      "[Epoch   81/ 100] [Batch    4/   9] Loss:  1.53e-03\n",
      "[Epoch   81/ 100] [Batch    5/   9] Loss:  1.46e-03\n",
      "[Epoch   81/ 100] [Batch    6/   9] Loss:  1.45e-03\n",
      "[Epoch   81/ 100] [Batch    7/   9] Loss:  1.74e-03\n",
      "[Epoch   81/ 100] [Batch    8/   9] Loss:  1.60e-03\n",
      "[Epoch   81/ 100] [Batch    9/   9] Loss:  9.72e-04\n",
      "[Epoch   82/ 100] [Batch    1/   9] Loss:  1.38e-03\n",
      "[Epoch   82/ 100] [Batch    2/   9] Loss:  1.37e-03\n",
      "[Epoch   82/ 100] [Batch    3/   9] Loss:  1.11e-03\n",
      "[Epoch   82/ 100] [Batch    4/   9] Loss:  1.58e-03\n",
      "[Epoch   82/ 100] [Batch    5/   9] Loss:  1.89e-03\n",
      "[Epoch   82/ 100] [Batch    6/   9] Loss:  1.61e-03\n",
      "[Epoch   82/ 100] [Batch    7/   9] Loss:  1.64e-03\n",
      "[Epoch   82/ 100] [Batch    8/   9] Loss:  1.48e-03\n",
      "[Epoch   82/ 100] [Batch    9/   9] Loss:  1.96e-03\n",
      "[Epoch   83/ 100] [Batch    1/   9] Loss:  1.79e-03\n",
      "[Epoch   83/ 100] [Batch    2/   9] Loss:  1.72e-03\n",
      "[Epoch   83/ 100] [Batch    3/   9] Loss:  1.49e-03\n",
      "[Epoch   83/ 100] [Batch    4/   9] Loss:  1.35e-03\n",
      "[Epoch   83/ 100] [Batch    5/   9] Loss:  1.53e-03\n",
      "[Epoch   83/ 100] [Batch    6/   9] Loss:  1.48e-03\n",
      "[Epoch   83/ 100] [Batch    7/   9] Loss:  1.49e-03\n",
      "[Epoch   83/ 100] [Batch    8/   9] Loss:  1.52e-03\n",
      "[Epoch   83/ 100] [Batch    9/   9] Loss:  1.10e-03\n",
      "[Epoch   84/ 100] [Batch    1/   9] Loss:  1.67e-03\n",
      "[Epoch   84/ 100] [Batch    2/   9] Loss:  1.49e-03\n",
      "[Epoch   84/ 100] [Batch    3/   9] Loss:  1.68e-03\n",
      "[Epoch   84/ 100] [Batch    4/   9] Loss:  1.23e-03\n",
      "[Epoch   84/ 100] [Batch    5/   9] Loss:  1.35e-03\n",
      "[Epoch   84/ 100] [Batch    6/   9] Loss:  1.82e-03\n",
      "[Epoch   84/ 100] [Batch    7/   9] Loss:  1.57e-03\n",
      "[Epoch   84/ 100] [Batch    8/   9] Loss:  1.45e-03\n",
      "[Epoch   84/ 100] [Batch    9/   9] Loss:  1.31e-03\n",
      "[Epoch   85/ 100] [Batch    1/   9] Loss:  1.57e-03\n",
      "[Epoch   85/ 100] [Batch    2/   9] Loss:  1.51e-03\n",
      "[Epoch   85/ 100] [Batch    3/   9] Loss:  1.61e-03\n",
      "[Epoch   85/ 100] [Batch    4/   9] Loss:  1.36e-03\n",
      "[Epoch   85/ 100] [Batch    5/   9] Loss:  1.65e-03\n",
      "[Epoch   85/ 100] [Batch    6/   9] Loss:  1.33e-03\n",
      "[Epoch   85/ 100] [Batch    7/   9] Loss:  1.66e-03\n",
      "[Epoch   85/ 100] [Batch    8/   9] Loss:  1.64e-03\n",
      "[Epoch   85/ 100] [Batch    9/   9] Loss:  1.86e-03\n",
      "[Epoch   86/ 100] [Batch    1/   9] Loss:  1.38e-03\n",
      "[Epoch   86/ 100] [Batch    2/   9] Loss:  1.73e-03\n",
      "[Epoch   86/ 100] [Batch    3/   9] Loss:  1.39e-03\n",
      "[Epoch   86/ 100] [Batch    4/   9] Loss:  1.91e-03\n",
      "[Epoch   86/ 100] [Batch    5/   9] Loss:  1.45e-03\n",
      "[Epoch   86/ 100] [Batch    6/   9] Loss:  1.45e-03\n",
      "[Epoch   86/ 100] [Batch    7/   9] Loss:  1.55e-03\n",
      "[Epoch   86/ 100] [Batch    8/   9] Loss:  1.53e-03\n",
      "[Epoch   86/ 100] [Batch    9/   9] Loss:  1.74e-03\n",
      "[Epoch   87/ 100] [Batch    1/   9] Loss:  1.43e-03\n",
      "[Epoch   87/ 100] [Batch    2/   9] Loss:  1.70e-03\n",
      "[Epoch   87/ 100] [Batch    3/   9] Loss:  1.66e-03\n",
      "[Epoch   87/ 100] [Batch    4/   9] Loss:  1.66e-03\n",
      "[Epoch   87/ 100] [Batch    5/   9] Loss:  1.43e-03\n",
      "[Epoch   87/ 100] [Batch    6/   9] Loss:  1.45e-03\n",
      "[Epoch   87/ 100] [Batch    7/   9] Loss:  1.36e-03\n",
      "[Epoch   87/ 100] [Batch    8/   9] Loss:  1.58e-03\n",
      "[Epoch   87/ 100] [Batch    9/   9] Loss:  1.29e-03\n",
      "[Epoch   88/ 100] [Batch    1/   9] Loss:  1.59e-03\n",
      "[Epoch   88/ 100] [Batch    2/   9] Loss:  1.30e-03\n",
      "[Epoch   88/ 100] [Batch    3/   9] Loss:  1.42e-03\n",
      "[Epoch   88/ 100] [Batch    4/   9] Loss:  1.68e-03\n",
      "[Epoch   88/ 100] [Batch    5/   9] Loss:  1.75e-03\n",
      "[Epoch   88/ 100] [Batch    6/   9] Loss:  1.15e-03\n",
      "[Epoch   88/ 100] [Batch    7/   9] Loss:  1.65e-03\n",
      "[Epoch   88/ 100] [Batch    8/   9] Loss:  1.75e-03\n",
      "[Epoch   88/ 100] [Batch    9/   9] Loss:  1.27e-03\n",
      "[Epoch   89/ 100] [Batch    1/   9] Loss:  1.18e-03\n",
      "[Epoch   89/ 100] [Batch    2/   9] Loss:  1.72e-03\n",
      "[Epoch   89/ 100] [Batch    3/   9] Loss:  1.53e-03\n",
      "[Epoch   89/ 100] [Batch    4/   9] Loss:  1.32e-03\n",
      "[Epoch   89/ 100] [Batch    5/   9] Loss:  1.57e-03\n",
      "[Epoch   89/ 100] [Batch    6/   9] Loss:  1.44e-03\n",
      "[Epoch   89/ 100] [Batch    7/   9] Loss:  1.75e-03\n",
      "[Epoch   89/ 100] [Batch    8/   9] Loss:  1.84e-03\n",
      "[Epoch   89/ 100] [Batch    9/   9] Loss:  1.98e-03\n",
      "[Epoch   90/ 100] [Batch    1/   9] Loss:  1.76e-03\n",
      "[Epoch   90/ 100] [Batch    2/   9] Loss:  1.29e-03\n",
      "[Epoch   90/ 100] [Batch    3/   9] Loss:  1.67e-03\n",
      "[Epoch   90/ 100] [Batch    4/   9] Loss:  1.53e-03\n",
      "[Epoch   90/ 100] [Batch    5/   9] Loss:  1.49e-03\n",
      "[Epoch   90/ 100] [Batch    6/   9] Loss:  1.34e-03\n",
      "[Epoch   90/ 100] [Batch    7/   9] Loss:  1.63e-03\n",
      "[Epoch   90/ 100] [Batch    8/   9] Loss:  1.70e-03\n",
      "[Epoch   90/ 100] [Batch    9/   9] Loss:  1.28e-03\n",
      "[Epoch   91/ 100] [Batch    1/   9] Loss:  1.57e-03\n",
      "[Epoch   91/ 100] [Batch    2/   9] Loss:  1.51e-03\n",
      "[Epoch   91/ 100] [Batch    3/   9] Loss:  1.48e-03\n",
      "[Epoch   91/ 100] [Batch    4/   9] Loss:  1.59e-03\n",
      "[Epoch   91/ 100] [Batch    5/   9] Loss:  1.62e-03\n",
      "[Epoch   91/ 100] [Batch    6/   9] Loss:  1.47e-03\n",
      "[Epoch   91/ 100] [Batch    7/   9] Loss:  1.45e-03\n",
      "[Epoch   91/ 100] [Batch    8/   9] Loss:  1.64e-03\n",
      "[Epoch   91/ 100] [Batch    9/   9] Loss:  1.95e-03\n",
      "[Epoch   92/ 100] [Batch    1/   9] Loss:  1.28e-03\n",
      "[Epoch   92/ 100] [Batch    2/   9] Loss:  1.43e-03\n",
      "[Epoch   92/ 100] [Batch    3/   9] Loss:  1.65e-03\n",
      "[Epoch   92/ 100] [Batch    4/   9] Loss:  1.49e-03\n",
      "[Epoch   92/ 100] [Batch    5/   9] Loss:  1.78e-03\n",
      "[Epoch   92/ 100] [Batch    6/   9] Loss:  1.58e-03\n",
      "[Epoch   92/ 100] [Batch    7/   9] Loss:  1.53e-03\n",
      "[Epoch   92/ 100] [Batch    8/   9] Loss:  1.48e-03\n",
      "[Epoch   92/ 100] [Batch    9/   9] Loss:  1.43e-03\n",
      "[Epoch   93/ 100] [Batch    1/   9] Loss:  1.66e-03\n",
      "[Epoch   93/ 100] [Batch    2/   9] Loss:  1.61e-03\n",
      "[Epoch   93/ 100] [Batch    3/   9] Loss:  1.42e-03\n",
      "[Epoch   93/ 100] [Batch    4/   9] Loss:  1.38e-03\n",
      "[Epoch   93/ 100] [Batch    5/   9] Loss:  1.71e-03\n",
      "[Epoch   93/ 100] [Batch    6/   9] Loss:  1.44e-03\n",
      "[Epoch   93/ 100] [Batch    7/   9] Loss:  1.38e-03\n",
      "[Epoch   93/ 100] [Batch    8/   9] Loss:  1.73e-03\n",
      "[Epoch   93/ 100] [Batch    9/   9] Loss:  1.79e-03\n",
      "[Epoch   94/ 100] [Batch    1/   9] Loss:  1.40e-03\n",
      "[Epoch   94/ 100] [Batch    2/   9] Loss:  1.34e-03\n",
      "[Epoch   94/ 100] [Batch    3/   9] Loss:  1.58e-03\n",
      "[Epoch   94/ 100] [Batch    4/   9] Loss:  1.50e-03\n",
      "[Epoch   94/ 100] [Batch    5/   9] Loss:  1.49e-03\n",
      "[Epoch   94/ 100] [Batch    6/   9] Loss:  1.40e-03\n",
      "[Epoch   94/ 100] [Batch    7/   9] Loss:  1.83e-03\n",
      "[Epoch   94/ 100] [Batch    8/   9] Loss:  1.76e-03\n",
      "[Epoch   94/ 100] [Batch    9/   9] Loss:  2.00e-03\n",
      "[Epoch   95/ 100] [Batch    1/   9] Loss:  1.70e-03\n",
      "[Epoch   95/ 100] [Batch    2/   9] Loss:  1.43e-03\n",
      "[Epoch   95/ 100] [Batch    3/   9] Loss:  1.35e-03\n",
      "[Epoch   95/ 100] [Batch    4/   9] Loss:  1.57e-03\n",
      "[Epoch   95/ 100] [Batch    5/   9] Loss:  1.37e-03\n",
      "[Epoch   95/ 100] [Batch    6/   9] Loss:  1.54e-03\n",
      "[Epoch   95/ 100] [Batch    7/   9] Loss:  1.84e-03\n",
      "[Epoch   95/ 100] [Batch    8/   9] Loss:  1.47e-03\n",
      "[Epoch   95/ 100] [Batch    9/   9] Loss:  1.52e-03\n",
      "[Epoch   96/ 100] [Batch    1/   9] Loss:  1.44e-03\n",
      "[Epoch   96/ 100] [Batch    2/   9] Loss:  1.50e-03\n",
      "[Epoch   96/ 100] [Batch    3/   9] Loss:  1.46e-03\n",
      "[Epoch   96/ 100] [Batch    4/   9] Loss:  1.71e-03\n",
      "[Epoch   96/ 100] [Batch    5/   9] Loss:  1.80e-03\n",
      "[Epoch   96/ 100] [Batch    6/   9] Loss:  1.63e-03\n",
      "[Epoch   96/ 100] [Batch    7/   9] Loss:  1.70e-03\n",
      "[Epoch   96/ 100] [Batch    8/   9] Loss:  1.71e-03\n",
      "[Epoch   96/ 100] [Batch    9/   9] Loss:  1.30e-03\n",
      "[Epoch   97/ 100] [Batch    1/   9] Loss:  1.74e-03\n",
      "[Epoch   97/ 100] [Batch    2/   9] Loss:  1.88e-03\n",
      "[Epoch   97/ 100] [Batch    3/   9] Loss:  2.02e-03\n",
      "[Epoch   97/ 100] [Batch    4/   9] Loss:  1.55e-03\n",
      "[Epoch   97/ 100] [Batch    5/   9] Loss:  1.45e-03\n",
      "[Epoch   97/ 100] [Batch    6/   9] Loss:  1.27e-03\n",
      "[Epoch   97/ 100] [Batch    7/   9] Loss:  1.57e-03\n",
      "[Epoch   97/ 100] [Batch    8/   9] Loss:  1.25e-03\n",
      "[Epoch   97/ 100] [Batch    9/   9] Loss:  2.28e-03\n",
      "[Epoch   98/ 100] [Batch    1/   9] Loss:  1.53e-03\n",
      "[Epoch   98/ 100] [Batch    2/   9] Loss:  1.90e-03\n",
      "[Epoch   98/ 100] [Batch    3/   9] Loss:  1.61e-03\n",
      "[Epoch   98/ 100] [Batch    4/   9] Loss:  1.67e-03\n",
      "[Epoch   98/ 100] [Batch    5/   9] Loss:  1.64e-03\n",
      "[Epoch   98/ 100] [Batch    6/   9] Loss:  1.35e-03\n",
      "[Epoch   98/ 100] [Batch    7/   9] Loss:  1.56e-03\n",
      "[Epoch   98/ 100] [Batch    8/   9] Loss:  1.23e-03\n",
      "[Epoch   98/ 100] [Batch    9/   9] Loss:  1.66e-03\n",
      "[Epoch   99/ 100] [Batch    1/   9] Loss:  1.58e-03\n",
      "[Epoch   99/ 100] [Batch    2/   9] Loss:  1.81e-03\n",
      "[Epoch   99/ 100] [Batch    3/   9] Loss:  1.58e-03\n",
      "[Epoch   99/ 100] [Batch    4/   9] Loss:  1.69e-03\n",
      "[Epoch   99/ 100] [Batch    5/   9] Loss:  1.63e-03\n",
      "[Epoch   99/ 100] [Batch    6/   9] Loss:  1.64e-03\n",
      "[Epoch   99/ 100] [Batch    7/   9] Loss:  1.40e-03\n",
      "[Epoch   99/ 100] [Batch    8/   9] Loss:  1.86e-03\n",
      "[Epoch   99/ 100] [Batch    9/   9] Loss:  9.88e-04\n",
      "[Epoch  100/ 100] [Batch    1/   9] Loss:  1.68e-03\n",
      "[Epoch  100/ 100] [Batch    2/   9] Loss:  1.50e-03\n",
      "[Epoch  100/ 100] [Batch    3/   9] Loss:  1.67e-03\n",
      "[Epoch  100/ 100] [Batch    4/   9] Loss:  1.24e-03\n",
      "[Epoch  100/ 100] [Batch    5/   9] Loss:  1.38e-03\n",
      "[Epoch  100/ 100] [Batch    6/   9] Loss:  1.52e-03\n",
      "[Epoch  100/ 100] [Batch    7/   9] Loss:  1.46e-03\n",
      "[Epoch  100/ 100] [Batch    8/   9] Loss:  1.60e-03\n",
      "[Epoch  100/ 100] [Batch    9/   9] Loss:  2.14e-03\n"
     ]
    },
    {
     "data": {
      "text/plain": [
       "LinearModel(\n",
       "  (linear): Linear(in_features=1, out_features=1, bias=True)\n",
       ")"
      ]
     },
     "execution_count": 34,
     "metadata": {},
     "output_type": "execute_result"
    }
   ],
   "source": [
    "train_hist = {}\n",
    "train_hist['loss'] = []\n",
    "\n",
    "if input_dim == output_dim == 1:\n",
    "    train_hist['weight'] = []\n",
    "    train_hist['bias'] = []\n",
    "\n",
    "# Initialize training\n",
    "model.reset()\n",
    "model.train()\n",
    "\n",
    "for epoch in range(n_epochs):\n",
    "    for idx, batch in enumerate(train_loader):\n",
    "        optimizer.zero_grad()\n",
    "        loss = loss_fun(model.forward(batch[0]),  batch[1])\n",
    "        loss.backward()\n",
    "        optimizer.step()\n",
    "\n",
    "        train_hist['loss'].append(loss.item())\n",
    "        if input_dim == output_dim == 1:\n",
    "            train_hist['weight'].append(model.linear.weight.item())\n",
    "            train_hist['bias'].append(model.linear.bias.item())\n",
    "        \n",
    "        print('[Epoch %4d/%4d] [Batch %4d/%4d] Loss: % 2.2e' % (epoch + 1, n_epochs, \n",
    "                                                                idx + 1, len(train_loader), \n",
    "                                                                loss.item()))\n",
    "        \n",
    "model.eval()"
   ]
  },
  {
   "cell_type": "code",
   "execution_count": 35,
   "metadata": {},
   "outputs": [],
   "source": [
    "if input_dim == output_dim == 1:\n",
    "    n_test = 500\n",
    "    X_test = np.random.rand(n_test, input_dim)\n",
    "    y_pred = []\n",
    "\n",
    "    state_dict = model.state_dict()\n",
    "\n",
    "    for idx in range(len(train_hist['weight'])):\n",
    "        state_dict['linear.weight'] = torch.tensor([[train_hist['weight'][idx]]])\n",
    "        state_dict['linear.bias'] = torch.tensor([train_hist['bias'][idx]])\n",
    "        model.load_state_dict(state_dict)\n",
    "\n",
    "        y_pred.append(model.forward(torch.tensor(X_test.astype('f'))).detach().numpy())    "
   ]
  },
  {
   "cell_type": "code",
   "execution_count": 36,
   "metadata": {},
   "outputs": [
    {
     "data": {
      "image/png": "[encoded data removed]",
      "text/plain": [
       "<Figure size 1080x360 with 3 Axes>"
      ]
     },
     "metadata": {
      "needs_background": "light"
     },
     "output_type": "display_data"
    }
   ],
   "source": [
    "if input_dim == output_dim == 1:\n",
    "    fig = plt.figure(figsize=(15, 5))\n",
    "    fig.clf()\n",
    "    \n",
    "    ax = fig.add_subplot(1, 3, 1)\n",
    "    levels = np.logspace(np.log(np.min(loss_values)), np.log(np.max(loss_values)), 20)\n",
    "    ax.contourf(ww, bb, loss_values, levels=levels, norm=colors.LogNorm())\n",
    "    ax.plot(train_hist['weight'], train_hist['bias'], '.-b')\n",
    "    ax.plot(A[0], b, 'r*', markersize=10)\n",
    "    ax.set_xlabel('weight')\n",
    "    ax.set_ylabel('bias')\n",
    "    #ax.legend(['optim', '(A, b)'])\n",
    "    ax.grid(True)\n",
    "    ax.set_xlim(-2, 2) \n",
    "    ax.set_ylim(-2, 2) \n",
    "    \n",
    "    ax = fig.add_subplot(1, 3, 2)\n",
    "    ax.loglog(np.abs(train_hist['loss']))\n",
    "    ax.set_xlabel('Iter')\n",
    "    ax.set_ylabel('Loss')\n",
    "    ax.grid(True)\n",
    "    \n",
    "    ax = fig.add_subplot(1, 3, 3)\n",
    "    ax.plot(X_train, y_train, '.')\n",
    "    a=ax.plot(X_test, y_pred[0], '-', alpha=0.1)\n",
    "    for y in y_pred[1:]:\n",
    "        ax.plot(X_test, y, '-', alpha=0.1, color=a[0].get_color())\n",
    "    ax.plot(X_test, y_pred[-1], 'k')\n",
    "    ax.grid(True)   \n",
    "\n",
    "    fig.tight_layout()\n",
    "\n",
    "else:\n",
    "    fig = plt.figure()\n",
    "    fig.clf()\n",
    "    ax = fig.gca()\n",
    "    ax.loglog(np.abs(train_hist['loss']))\n",
    "    ax.set_xlabel('Iter')\n",
    "    ax.set_ylabel('Loss')\n",
    "    ax.grid(True)"
   ]
  },
  {
   "cell_type": "code",
   "execution_count": null,
   "metadata": {},
   "outputs": [],
   "source": []
  }
 ],
 "metadata": {
  "kernelspec": {
   "display_name": "Python 3 (ipykernel)",
   "language": "python",
   "name": "python3"
  },
  "language_info": {
   "codemirror_mode": {
    "name": "ipython",
    "version": 3
   },
   "file_extension": ".py",
   "mimetype": "text/x-python",
   "name": "python",
   "nbconvert_exporter": "python",
   "pygments_lexer": "ipython3",
   "version": "3.7.13"
  }
 },
 "nbformat": 4,
 "nbformat_minor": 4
}
