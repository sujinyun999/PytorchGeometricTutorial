{
 "cells": [
  {
   "cell_type": "code",
   "execution_count": 1,
   "metadata": {},
   "outputs": [
    {
     "name": "stdout",
     "output_type": "stream",
     "text": [
      "1.12.1\n"
     ]
    }
   ],
   "source": [
    "import os\n",
    "import torch\n",
    "os.environ['TORCH'] = torch.__version__\n",
    "print(torch.__version__)"
   ]
  },
  {
   "cell_type": "code",
   "execution_count": 2,
   "metadata": {},
   "outputs": [],
   "source": [
    "import torch_geometric\n",
    "from torch_geometric.datasets import Planetoid"
   ]
  },
  {
   "cell_type": "code",
   "execution_count": 6,
   "metadata": {},
   "outputs": [],
   "source": [
    "use_cuda_if_available = False"
   ]
  },
  {
   "cell_type": "markdown",
   "metadata": {},
   "source": [
    "# Load the dataset"
   ]
  },
  {
   "cell_type": "markdown",
   "metadata": {},
   "source": [
    "https://github.com/kimiyoung/planetoid/"
   ]
  },
  {
   "cell_type": "code",
   "execution_count": 3,
   "metadata": {},
   "outputs": [],
   "source": [
    "dataset = Planetoid(root=\"tutorial1\",name= \"Cora\")"
   ]
  },
  {
   "cell_type": "markdown",
   "metadata": {},
   "source": [
    "##### Dataset properties"
   ]
  },
  {
   "cell_type": "markdown",
   "metadata": {},
   "source": [
    "Cora\n",
    "- citation graph\n",
    "- One huge graph"
   ]
  },
  {
   "cell_type": "code",
   "execution_count": 4,
   "metadata": {},
   "outputs": [
    {
     "name": "stdout",
     "output_type": "stream",
     "text": [
      "Cora()\n",
      "number of graphs:\t\t 1\n",
      "number of classes:\t\t 7\n",
      "number of node features:\t 1433\n",
      "number of edge features:\t 0\n"
     ]
    }
   ],
   "source": [
    "print(dataset)\n",
    "print(\"number of graphs:\\t\\t\",len(dataset))\n",
    "print(\"number of classes:\\t\\t\",dataset.num_classes)\n",
    "print(\"number of node features:\\t\",dataset.num_node_features)\n",
    "print(\"number of edge features:\\t\",dataset.num_edge_features)"
   ]
  },
  {
   "cell_type": "markdown",
   "metadata": {},
   "source": [
    "##### Dataset shapes"
   ]
  },
  {
   "cell_type": "markdown",
   "metadata": {},
   "source": [
    "- x : 1433차원의 node feature\n",
    "- edge_index : [[start_node_index],[end_node_index]]\n",
    "- y : 0~7 node class\n",
    "- train/val/test_mask : train/validation/test split"
   ]
  },
  {
   "cell_type": "code",
   "execution_count": 5,
   "metadata": {},
   "outputs": [
    {
     "name": "stdout",
     "output_type": "stream",
     "text": [
      "Data(x=[2708, 1433], edge_index=[2, 10556], y=[2708], train_mask=[2708], val_mask=[2708], test_mask=[2708])\n"
     ]
    }
   ],
   "source": [
    "print(dataset.data)"
   ]
  },
  {
   "cell_type": "code",
   "execution_count": 6,
   "metadata": {},
   "outputs": [
    {
     "name": "stdout",
     "output_type": "stream",
     "text": [
      "edge_index:\t\t torch.Size([2, 10556])\n",
      "tensor([[   0,    0,    0,  ..., 2707, 2707, 2707],\n",
      "        [ 633, 1862, 2582,  ...,  598, 1473, 2706]])\n",
      "\n",
      "\n",
      "train_mask:\t\t torch.Size([2708])\n",
      "tensor([ True,  True,  True,  ..., False, False, False])\n",
      "\n",
      "\n",
      "x:\t\t torch.Size([2708, 1433])\n",
      "tensor([[0., 0., 0.,  ..., 0., 0., 0.],\n",
      "        [0., 0., 0.,  ..., 0., 0., 0.],\n",
      "        [0., 0., 0.,  ..., 0., 0., 0.],\n",
      "        ...,\n",
      "        [0., 0., 0.,  ..., 0., 0., 0.],\n",
      "        [0., 0., 0.,  ..., 0., 0., 0.],\n",
      "        [0., 0., 0.,  ..., 0., 0., 0.]])\n",
      "\n",
      "\n",
      "y:\t\t torch.Size([2708])\n",
      "tensor([3, 4, 4,  ..., 3, 3, 3])\n"
     ]
    }
   ],
   "source": [
    "print(\"edge_index:\\t\\t\",dataset.data.edge_index.shape)\n",
    "print(dataset.data.edge_index)\n",
    "print(\"\\n\")\n",
    "print(\"train_mask:\\t\\t\",dataset.data.train_mask.shape)\n",
    "print(dataset.data.train_mask) #1D tensor\n",
    "print(\"\\n\")\n",
    "print(\"x:\\t\\t\",dataset.data.x.shape)\n",
    "print(dataset.data.x) #Node feature\n",
    "print(\"\\n\")\n",
    "print(\"y:\\t\\t\",dataset.data.y.shape)\n",
    "print(dataset.data.y) #Label of Node"
   ]
  },
  {
   "cell_type": "code",
   "execution_count": 7,
   "metadata": {},
   "outputs": [],
   "source": [
    "import os.path as osp\n",
    "\n",
    "import torch\n",
    "import torch.nn.functional as F\n",
    "from torch_geometric.nn import SAGEConv\n"
   ]
  },
  {
   "cell_type": "code",
   "execution_count": 8,
   "metadata": {},
   "outputs": [],
   "source": [
    "data = dataset[0] #One huge graph"
   ]
  },
  {
   "cell_type": "markdown",
   "metadata": {},
   "source": [
    "SAGEConv(in_feats, out_feats, aggregator_type, feat_drop=0.0, bias=True, norm=None, activation=None)\n",
    "\n",
    "Sourcode : https://pytorch-geometric.readthedocs.io/en/latest/_modules/torch_geometric/nn/conv/sage_conv.html\n",
    "        \n",
    "- in_feats : Input feature size(Node feature)\n",
    "- out_feats : Output feature size\n",
    "- aggr : aggregation function"
   ]
  },
  {
   "cell_type": "code",
   "execution_count": 9,
   "metadata": {},
   "outputs": [],
   "source": [
    "class Net(torch.nn.Module):\n",
    "    def __init__(self):\n",
    "        super(Net, self).__init__()\n",
    "        \n",
    "        self.conv = SAGEConv(dataset.num_features,\n",
    "                             dataset.num_classes,\n",
    "                             aggr=\"max\") # max, mean, add ...)\n",
    "\n",
    "    def forward(self):\n",
    "        x = self.conv(data.x, data.edge_index) #node feature,edge list as input\n",
    "        return F.log_softmax(x, dim=1) #crossentropy = log_softmax+nll_loss\n",
    "    "
   ]
  },
  {
   "cell_type": "code",
   "execution_count": 12,
   "metadata": {},
   "outputs": [
    {
     "data": {
      "text/plain": [
       "device(type='cpu')"
      ]
     },
     "execution_count": 12,
     "metadata": {},
     "output_type": "execute_result"
    }
   ],
   "source": [
    "device = torch.device('cuda' if torch.cuda.is_available() and use_cuda_if_available else 'cpu')\n",
    "device"
   ]
  },
  {
   "cell_type": "code",
   "execution_count": 13,
   "metadata": {
    "scrolled": true
   },
   "outputs": [],
   "source": [
    "model, data = Net().to(device), data.to(device)\n",
    "optimizer = torch.optim.Adam(model.parameters(), lr=0.01, weight_decay=5e-4)"
   ]
  },
  {
   "cell_type": "code",
   "execution_count": 27,
   "metadata": {},
   "outputs": [
    {
     "name": "stdout",
     "output_type": "stream",
     "text": [
      "torch.return_types.max(\n",
      "values=tensor([-7.1921e-03, -1.8998e-03, -2.2474e-03, -1.3277e-02, -5.5584e-03,\n",
      "        -6.0664e-03, -1.8021e-03, -2.5338e-02, -6.6105e-03, -1.2725e-02,\n",
      "        -7.4663e-03, -6.4635e-03, -2.5638e-02, -5.7374e-03, -4.9899e-03,\n",
      "        -6.1799e-03, -3.6712e-03, -4.8001e-03, -3.5643e-03, -1.0229e-02,\n",
      "        -1.3479e-03, -1.2848e-02, -3.1575e-03, -1.8285e-02, -7.2596e-05,\n",
      "        -4.6279e-03, -8.1708e-04, -4.4687e-03, -1.1988e-02, -1.1594e-02,\n",
      "        -5.1126e-03, -1.2092e-02, -7.1117e-03, -1.0908e-03, -5.6903e-03,\n",
      "        -3.5459e-03, -2.1301e-03, -5.4314e-03, -4.6802e-03, -1.0918e-03,\n",
      "        -4.8828e-03, -3.7892e-03, -3.1568e-03, -2.5734e-04, -4.7364e-03,\n",
      "        -1.8760e-03, -8.0582e-03, -2.2357e-03, -2.0464e-03, -6.6190e-03,\n",
      "        -1.3557e-02, -3.7653e-03, -4.5124e-03, -6.4650e-04, -9.4231e-03,\n",
      "        -3.9037e-03, -2.7030e-03, -1.1304e-02, -1.4164e-02, -3.1431e-04,\n",
      "        -5.1405e-03, -3.5623e-03, -1.4704e-02, -6.8630e-03, -3.4011e-03,\n",
      "        -2.8951e-03, -1.9262e-02, -2.1249e-03, -2.5340e-03, -3.0255e-03,\n",
      "        -7.0397e-03, -5.2852e-03, -3.2479e-03, -3.0811e-04, -4.6350e-04,\n",
      "        -3.3922e-03, -4.4250e-03, -8.1600e-03, -6.4465e-03, -9.0828e-03,\n",
      "        -5.2509e-03, -2.3637e-03, -9.5546e-03, -3.3398e-03, -2.2459e-03,\n",
      "        -5.1225e-03, -3.5597e-03, -2.2652e-03, -4.5814e-04, -1.4395e-03,\n",
      "        -7.9457e-04, -7.2036e-04, -3.5461e-03, -9.6127e-03, -2.3818e-03,\n",
      "        -8.6185e-05, -7.8480e-03, -3.9194e-03, -1.2576e-02, -3.2901e-05,\n",
      "        -4.9013e-03, -2.5276e-03, -2.2283e-03, -3.8390e-04, -5.9873e-04,\n",
      "        -1.1079e-03, -6.5667e-03, -2.6775e-03, -6.9755e-03, -6.4729e-05,\n",
      "        -1.5332e-03, -8.2399e-04, -1.2762e-03, -5.2341e-03, -7.3986e-03,\n",
      "        -1.5466e-02, -9.6216e-03, -7.2255e-03, -3.0751e-04, -8.1661e-04,\n",
      "        -3.7855e-03, -1.6276e-03, -4.7792e-04, -3.4434e-04, -1.6158e-03,\n",
      "        -8.1360e-03, -5.2736e-04, -6.7039e-03, -2.4677e-03, -6.7967e-03,\n",
      "        -1.5708e-03, -6.2591e-03, -4.5790e-04, -7.3406e-04, -1.0823e-02,\n",
      "        -9.1788e-03, -1.3459e-02, -2.8668e-03, -3.7940e-03, -5.6027e-05],\n",
      "       grad_fn=<MaxBackward0>),\n",
      "indices=tensor([3, 4, 4, 0, 3, 2, 0, 3, 3, 2, 0, 0, 4, 3, 3, 3, 2, 3, 1, 3, 5, 3, 4, 6,\n",
      "        3, 3, 6, 3, 2, 4, 3, 6, 0, 4, 2, 0, 1, 5, 4, 4, 3, 6, 6, 4, 3, 3, 2, 5,\n",
      "        3, 4, 5, 3, 0, 2, 1, 4, 6, 3, 2, 2, 0, 0, 0, 4, 2, 0, 4, 5, 2, 6, 5, 2,\n",
      "        2, 2, 0, 4, 5, 6, 4, 0, 0, 0, 4, 2, 4, 1, 4, 6, 0, 4, 2, 4, 6, 6, 0, 0,\n",
      "        6, 5, 0, 6, 0, 2, 1, 1, 1, 2, 6, 5, 6, 1, 2, 2, 1, 5, 5, 5, 6, 5, 6, 5,\n",
      "        5, 1, 6, 6, 1, 5, 1, 6, 5, 5, 5, 1, 5, 1, 1, 1, 1, 1, 1, 1]))\n"
     ]
    }
   ],
   "source": [
    "'''\n",
    "참고 : \n",
    "- data = dataset[0]\n",
    "- data(mask) = generator -> iter\n",
    "- model()[mask] -> mask filtering\n",
    "- .max(1) -> filtering된 node tensor들(ex. train의 경우 140개)의 row-wise max value&index\n",
    "'''\n",
    "for _, mask in data('train_mask'):\n",
    "    print(model()[mask].max(1))"
   ]
  },
  {
   "cell_type": "code",
   "execution_count": 21,
   "metadata": {},
   "outputs": [],
   "source": [
    "def train():\n",
    "    model.train()\n",
    "    optimizer.zero_grad()\n",
    "    #crossentropy = log_softmax+nll_loss\n",
    "    #train data에 대해서만 loss적용\n",
    "    F.nll_loss(model()[data.train_mask], data.y[data.train_mask]).backward()\n",
    "    optimizer.step()\n",
    "\n",
    "\n",
    "def test():\n",
    "    model.eval() #change mode\n",
    "    logits, accs = model(), [] #model()[mask] 로 데이터 불러오기\n",
    "    #data = dataset[0], data(mask) : generator\n",
    "    for _, mask in data('train_mask', 'val_mask', 'test_mask'):\n",
    "        #tensor.max(1) : [0]각 행에서의 최대값 [1]index\n",
    "        #max()안에 0이 들어갈 경우 각 열의 최대값\n",
    "        pred = logits[mask].max(1)[1] \n",
    "        #tensor.eq() = 같은 위치에 있는 값들이 같은지 비교\n",
    "        acc = pred.eq(data.y[mask]).sum().item() / mask.sum().item()\n",
    "        accs.append(acc)\n",
    "    return accs"
   ]
  },
  {
   "cell_type": "code",
   "execution_count": 22,
   "metadata": {},
   "outputs": [
    {
     "name": "stdout",
     "output_type": "stream",
     "text": [
      "Epoch: 010, Val: 0.7300, Test: 0.7200\n",
      "Epoch: 020, Val: 0.7300, Test: 0.7200\n",
      "Epoch: 030, Val: 0.7300, Test: 0.7200\n",
      "Epoch: 040, Val: 0.7300, Test: 0.7200\n",
      "Epoch: 050, Val: 0.7300, Test: 0.7200\n",
      "Epoch: 060, Val: 0.7300, Test: 0.7200\n",
      "Epoch: 070, Val: 0.7300, Test: 0.7200\n",
      "Epoch: 080, Val: 0.7300, Test: 0.7200\n",
      "Epoch: 090, Val: 0.7300, Test: 0.7200\n"
     ]
    }
   ],
   "source": [
    "best_val_acc = test_acc = 0\n",
    "for epoch in range(1,100):\n",
    "    train()\n",
    "    _, val_acc, tmp_test_acc = test()\n",
    "    if val_acc > best_val_acc:\n",
    "        best_val_acc = val_acc\n",
    "        test_acc = tmp_test_acc\n",
    "    log = 'Epoch: {:03d}, Val: {:.4f}, Test: {:.4f}'\n",
    "    \n",
    "    if epoch % 10 == 0:\n",
    "        print(log.format(epoch, best_val_acc, test_acc))"
   ]
  },
  {
   "cell_type": "code",
   "execution_count": null,
   "metadata": {},
   "outputs": [],
   "source": []
  },
  {
   "cell_type": "code",
   "execution_count": null,
   "metadata": {},
   "outputs": [],
   "source": []
  },
  {
   "cell_type": "code",
   "execution_count": null,
   "metadata": {},
   "outputs": [],
   "source": []
  },
  {
   "cell_type": "code",
   "execution_count": null,
   "metadata": {},
   "outputs": [],
   "source": []
  },
  {
   "cell_type": "code",
   "execution_count": null,
   "metadata": {},
   "outputs": [],
   "source": []
  },
  {
   "cell_type": "code",
   "execution_count": null,
   "metadata": {},
   "outputs": [],
   "source": []
  }
 ],
 "metadata": {
  "kernelspec": {
   "display_name": "Python 3 (ipykernel)",
   "language": "python",
   "name": "python3"
  },
  "language_info": {
   "codemirror_mode": {
    "name": "ipython",
    "version": 3
   },
   "file_extension": ".py",
   "mimetype": "text/x-python",
   "name": "python",
   "nbconvert_exporter": "python",
   "pygments_lexer": "ipython3",
   "version": "3.9.13"
  },
  "vscode": {
   "interpreter": {
    "hash": "d7ece2a1116932d78a61b36ba43f337b6613a78b373f4edd090425ac84433a6d"
   }
  }
 },
 "nbformat": 4,
 "nbformat_minor": 4
}
